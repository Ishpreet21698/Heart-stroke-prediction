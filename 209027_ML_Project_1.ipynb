{
 "cells": [
  {
   "cell_type": "markdown",
   "metadata": {},
   "source": [
    "Name:Anuya Thakur\n",
    "\n",
    "UID: 209027\n",
    "\n",
    "Roll No: 19\n",
    "\n",
    "Subject: Machine Learning 1"
   ]
  },
  {
   "cell_type": "markdown",
   "metadata": {},
   "source": [
    "# HEALTH CARE Domain\n",
    "According to the World Health Organization (WHO) stroke is the 2nd leading cause of death globally, responsible for approximately 11% of total deaths.\n",
    "\n",
    "The dataset used is a dataset which will be able to detect people likely to get strokes on the basis of Gender, Age, Whether or not they have heart disease and hypertension, whether or not they are married, work type, residence type, Average Glucose Level, BMI, Smoking Status\n",
    "\n",
    "1) id: unique identifier\n",
    "\n",
    "2) gender: \"Male\", \"Female\" or \"Other\"\n",
    "\n",
    "3) age: age of the patient\n",
    "\n",
    "4) hypertension: 0 if the patient doesn't have hypertension, 1 if the patient has hypertension\n",
    "\n",
    "5) heart_disease: 0 if the patient doesn't have any heart diseases, 1 if the patient has a heart disease\n",
    "\n",
    "6) ever_married: \"No\" or \"Yes\"\n",
    "\n",
    "7) work_type: \"children\", \"Government Job\", \"Neverworked\", \"Private\" or \"Self-employed\"\n",
    "\n",
    "8) Residence_type: \"Rural\" or \"Urban\"\n",
    "\n",
    "9) avg_glucose_level: average glucose level in blood\n",
    "\n",
    "10) bmi: body mass index\n",
    "\n",
    "11) smoking_status: \"formerly smoked\", \"never smoked\", \"smokes\" or \"Unknown\"\n",
    "\n",
    "12) stroke: 1 if the patient had a stroke or 0 if not\n",
    "\n",
    "*Note: \"Unknown\" in smoking_status means that the information is unavailable for this patient"
   ]
  },
  {
   "cell_type": "code",
   "execution_count": 1,
   "metadata": {},
   "outputs": [],
   "source": [
    "import pandas as pd\n",
    "import numpy as np\n",
    "import matplotlib.pyplot as plt\n",
    "import seaborn as sns"
   ]
  },
  {
   "cell_type": "code",
   "execution_count": 2,
   "metadata": {},
   "outputs": [],
   "source": [
    "df=pd.read_csv(\"E:\\\\Anuya MSc\\\\Sem 2\\\\EL + ML Project\\\\healthcare-dataset-stroke-data.csv\",header=0)"
   ]
  },
  {
   "cell_type": "code",
   "execution_count": 4,
   "metadata": {},
   "outputs": [
    {
     "data": {
      "text/html": [
       "<div>\n",
       "<style scoped>\n",
       "    .dataframe tbody tr th:only-of-type {\n",
       "        vertical-align: middle;\n",
       "    }\n",
       "\n",
       "    .dataframe tbody tr th {\n",
       "        vertical-align: top;\n",
       "    }\n",
       "\n",
       "    .dataframe thead th {\n",
       "        text-align: right;\n",
       "    }\n",
       "</style>\n",
       "<table border=\"1\" class=\"dataframe\">\n",
       "  <thead>\n",
       "    <tr style=\"text-align: right;\">\n",
       "      <th></th>\n",
       "      <th>id</th>\n",
       "      <th>gender</th>\n",
       "      <th>age</th>\n",
       "      <th>hypertension</th>\n",
       "      <th>heart_disease</th>\n",
       "      <th>ever_married</th>\n",
       "      <th>work_type</th>\n",
       "      <th>Residence_type</th>\n",
       "      <th>avg_glucose_level</th>\n",
       "      <th>bmi</th>\n",
       "      <th>smoking_status</th>\n",
       "      <th>stroke</th>\n",
       "    </tr>\n",
       "  </thead>\n",
       "  <tbody>\n",
       "    <tr>\n",
       "      <th>0</th>\n",
       "      <td>9046</td>\n",
       "      <td>Male</td>\n",
       "      <td>67.0</td>\n",
       "      <td>0</td>\n",
       "      <td>1</td>\n",
       "      <td>Yes</td>\n",
       "      <td>Private</td>\n",
       "      <td>Urban</td>\n",
       "      <td>228.69</td>\n",
       "      <td>36.6</td>\n",
       "      <td>formerly smoked</td>\n",
       "      <td>1</td>\n",
       "    </tr>\n",
       "    <tr>\n",
       "      <th>1</th>\n",
       "      <td>51676</td>\n",
       "      <td>Female</td>\n",
       "      <td>61.0</td>\n",
       "      <td>0</td>\n",
       "      <td>0</td>\n",
       "      <td>Yes</td>\n",
       "      <td>Self-employed</td>\n",
       "      <td>Rural</td>\n",
       "      <td>202.21</td>\n",
       "      <td>NaN</td>\n",
       "      <td>never smoked</td>\n",
       "      <td>1</td>\n",
       "    </tr>\n",
       "    <tr>\n",
       "      <th>2</th>\n",
       "      <td>31112</td>\n",
       "      <td>Male</td>\n",
       "      <td>80.0</td>\n",
       "      <td>0</td>\n",
       "      <td>1</td>\n",
       "      <td>Yes</td>\n",
       "      <td>Private</td>\n",
       "      <td>Rural</td>\n",
       "      <td>105.92</td>\n",
       "      <td>32.5</td>\n",
       "      <td>never smoked</td>\n",
       "      <td>1</td>\n",
       "    </tr>\n",
       "    <tr>\n",
       "      <th>3</th>\n",
       "      <td>60182</td>\n",
       "      <td>Female</td>\n",
       "      <td>49.0</td>\n",
       "      <td>0</td>\n",
       "      <td>0</td>\n",
       "      <td>Yes</td>\n",
       "      <td>Private</td>\n",
       "      <td>Urban</td>\n",
       "      <td>171.23</td>\n",
       "      <td>34.4</td>\n",
       "      <td>smokes</td>\n",
       "      <td>1</td>\n",
       "    </tr>\n",
       "    <tr>\n",
       "      <th>4</th>\n",
       "      <td>1665</td>\n",
       "      <td>Female</td>\n",
       "      <td>79.0</td>\n",
       "      <td>1</td>\n",
       "      <td>0</td>\n",
       "      <td>Yes</td>\n",
       "      <td>Self-employed</td>\n",
       "      <td>Rural</td>\n",
       "      <td>174.12</td>\n",
       "      <td>24.0</td>\n",
       "      <td>never smoked</td>\n",
       "      <td>1</td>\n",
       "    </tr>\n",
       "  </tbody>\n",
       "</table>\n",
       "</div>"
      ],
      "text/plain": [
       "      id  gender   age  hypertension  heart_disease ever_married  \\\n",
       "0   9046    Male  67.0             0              1          Yes   \n",
       "1  51676  Female  61.0             0              0          Yes   \n",
       "2  31112    Male  80.0             0              1          Yes   \n",
       "3  60182  Female  49.0             0              0          Yes   \n",
       "4   1665  Female  79.0             1              0          Yes   \n",
       "\n",
       "       work_type Residence_type  avg_glucose_level   bmi   smoking_status  \\\n",
       "0        Private          Urban             228.69  36.6  formerly smoked   \n",
       "1  Self-employed          Rural             202.21   NaN     never smoked   \n",
       "2        Private          Rural             105.92  32.5     never smoked   \n",
       "3        Private          Urban             171.23  34.4           smokes   \n",
       "4  Self-employed          Rural             174.12  24.0     never smoked   \n",
       "\n",
       "   stroke  \n",
       "0       1  \n",
       "1       1  \n",
       "2       1  \n",
       "3       1  \n",
       "4       1  "
      ]
     },
     "execution_count": 4,
     "metadata": {},
     "output_type": "execute_result"
    }
   ],
   "source": [
    "df.head()"
   ]
  },
  {
   "cell_type": "code",
   "execution_count": 6,
   "metadata": {},
   "outputs": [
    {
     "data": {
      "text/plain": [
       "(5110, 12)"
      ]
     },
     "execution_count": 6,
     "metadata": {},
     "output_type": "execute_result"
    }
   ],
   "source": [
    "df.shape"
   ]
  },
  {
   "cell_type": "code",
   "execution_count": 7,
   "metadata": {},
   "outputs": [
    {
     "data": {
      "text/plain": [
       "Index(['id', 'gender', 'age', 'hypertension', 'heart_disease', 'ever_married',\n",
       "       'work_type', 'Residence_type', 'avg_glucose_level', 'bmi',\n",
       "       'smoking_status', 'stroke'],\n",
       "      dtype='object')"
      ]
     },
     "execution_count": 7,
     "metadata": {},
     "output_type": "execute_result"
    }
   ],
   "source": [
    "df.columns"
   ]
  },
  {
   "cell_type": "code",
   "execution_count": 8,
   "metadata": {},
   "outputs": [
    {
     "data": {
      "text/plain": [
       "id                     0\n",
       "gender                 0\n",
       "age                    0\n",
       "hypertension           0\n",
       "heart_disease          0\n",
       "ever_married           0\n",
       "work_type              0\n",
       "Residence_type         0\n",
       "avg_glucose_level      0\n",
       "bmi                  201\n",
       "smoking_status         0\n",
       "stroke                 0\n",
       "dtype: int64"
      ]
     },
     "execution_count": 8,
     "metadata": {},
     "output_type": "execute_result"
    }
   ],
   "source": [
    "df.isna().sum()"
   ]
  },
  {
   "cell_type": "markdown",
   "metadata": {},
   "source": [
    "### Conclusion\n",
    "We have 201 missing values in bmi column. \n",
    "None of the other Columns have Missing values.\n",
    "\n",
    "We will handle this later"
   ]
  },
  {
   "cell_type": "code",
   "execution_count": 7,
   "metadata": {},
   "outputs": [
    {
     "data": {
      "text/plain": [
       "0    4861\n",
       "1     249\n",
       "Name: stroke, dtype: int64"
      ]
     },
     "execution_count": 7,
     "metadata": {},
     "output_type": "execute_result"
    }
   ],
   "source": [
    "df[\"stroke\"].value_counts()"
   ]
  },
  {
   "cell_type": "code",
   "execution_count": 12,
   "metadata": {},
   "outputs": [
    {
     "data": {
      "image/png": "[encoded data removed]",
      "text/plain": [
       "<Figure size 1296x432 with 1 Axes>"
      ]
     },
     "metadata": {},
     "output_type": "display_data"
    }
   ],
   "source": [
    "import matplotlib as mpl\n",
    "colors_list = ['#0000fd','#fdf000']\n",
    "mpl.rcParams['font.size'] = 18.0\n",
    "ex = pd.DataFrame(df['stroke'].value_counts())\n",
    "ex['stroke'].plot(kind='pie',\n",
    "            figsize=(18, 6),\n",
    "            autopct='%1.0f%%', \n",
    "            startangle=90,  \n",
    "            shadow=True,       \n",
    "            labels=None,    \n",
    "            pctdistance=1.2, \n",
    "            colors=colors_list,\n",
    "            )\n",
    "\n",
    "plt.title('Ratio of Patients having Stroke to not having Stroke',y=1.1,fontsize=25) \n",
    "plt.axis('equal') \n",
    "plt.legend(labels=['0: Patient had Stroke','1: Patient didnot get Stroke'], loc='upper right') \n",
    "plt.show()"
   ]
  },
  {
   "cell_type": "markdown",
   "metadata": {},
   "source": [
    "This Shows that the dataset is not balanced."
   ]
  },
  {
   "cell_type": "markdown",
   "metadata": {},
   "source": [
    "# Exploratory Data Analysis"
   ]
  },
  {
   "cell_type": "markdown",
   "metadata": {},
   "source": [
    "## Analysis on Gender"
   ]
  },
  {
   "cell_type": "code",
   "execution_count": 9,
   "metadata": {},
   "outputs": [
    {
     "data": {
      "text/plain": [
       "Female    2994\n",
       "Male      2115\n",
       "Other        1\n",
       "Name: gender, dtype: int64"
      ]
     },
     "execution_count": 9,
     "metadata": {},
     "output_type": "execute_result"
    }
   ],
   "source": [
    "df[\"gender\"].value_counts()"
   ]
  },
  {
   "cell_type": "markdown",
   "metadata": {},
   "source": [
    "Here since we have only 1 value for Others as gender we check the entries for that column and delete it because that value will affect our analysis. We can consider it as Outlier."
   ]
  },
  {
   "cell_type": "code",
   "execution_count": 10,
   "metadata": {},
   "outputs": [
    {
     "name": "stdout",
     "output_type": "stream",
     "text": [
      "3116 \n",
      " id                             56156\n",
      "gender                         Other\n",
      "age                               26\n",
      "hypertension                       0\n",
      "heart_disease                      0\n",
      "ever_married                      No\n",
      "work_type                    Private\n",
      "Residence_type                 Rural\n",
      "avg_glucose_level             143.33\n",
      "bmi                             22.4\n",
      "smoking_status       formerly smoked\n",
      "stroke                             0\n",
      "Name: 3116, dtype: object\n"
     ]
    }
   ],
   "source": [
    "df2=pd.DataFrame(columns=df.columns)\n",
    "for i,data in df.iterrows():\n",
    "    if data[\"gender\"]=='Other':\n",
    "        print(i,\"\\n\",data)\n",
    "        df2=df.drop(i)"
   ]
  },
  {
   "cell_type": "markdown",
   "metadata": {},
   "source": [
    "Here we created another dataframe which doesnot contain the gender which is other and we named it as df2. We are doing all the further analysis on this dataframe."
   ]
  },
  {
   "cell_type": "code",
   "execution_count": 8,
   "metadata": {},
   "outputs": [
    {
     "data": {
      "text/plain": [
       "Female    2994\n",
       "Male      2115\n",
       "Name: gender, dtype: int64"
      ]
     },
     "execution_count": 8,
     "metadata": {},
     "output_type": "execute_result"
    }
   ],
   "source": [
    "df2['gender'].value_counts()"
   ]
  },
  {
   "cell_type": "code",
   "execution_count": 11,
   "metadata": {},
   "outputs": [
    {
     "data": {
      "text/html": [
       "<div>\n",
       "<style scoped>\n",
       "    .dataframe tbody tr th:only-of-type {\n",
       "        vertical-align: middle;\n",
       "    }\n",
       "\n",
       "    .dataframe tbody tr th {\n",
       "        vertical-align: top;\n",
       "    }\n",
       "\n",
       "    .dataframe thead th {\n",
       "        text-align: right;\n",
       "    }\n",
       "</style>\n",
       "<table border=\"1\" class=\"dataframe\">\n",
       "  <thead>\n",
       "    <tr style=\"text-align: right;\">\n",
       "      <th></th>\n",
       "      <th>stroke</th>\n",
       "    </tr>\n",
       "    <tr>\n",
       "      <th>gender</th>\n",
       "      <th></th>\n",
       "    </tr>\n",
       "  </thead>\n",
       "  <tbody>\n",
       "    <tr>\n",
       "      <th>Male</th>\n",
       "      <td>0.051064</td>\n",
       "    </tr>\n",
       "    <tr>\n",
       "      <th>Female</th>\n",
       "      <td>0.047094</td>\n",
       "    </tr>\n",
       "  </tbody>\n",
       "</table>\n",
       "</div>"
      ],
      "text/plain": [
       "          stroke\n",
       "gender          \n",
       "Male    0.051064\n",
       "Female  0.047094"
      ]
     },
     "execution_count": 11,
     "metadata": {},
     "output_type": "execute_result"
    }
   ],
   "source": [
    "sex=df2[[\"gender\",\"stroke\"]].groupby([\"gender\"]).mean().sort_values(by=\"stroke\", ascending=False)\n",
    "sex"
   ]
  },
  {
   "cell_type": "code",
   "execution_count": 12,
   "metadata": {},
   "outputs": [
    {
     "data": {
      "text/plain": [
       "<AxesSubplot:title={'center':'Genderwise chances of Stroke'}, xlabel='Gender', ylabel='Chances of Stroke'>"
      ]
     },
     "execution_count": 12,
     "metadata": {},
     "output_type": "execute_result"
    },
    {
     "data": {
      "image/png": "[encoded data removed]",
      "text/plain": [
       "<Figure size 432x288 with 1 Axes>"
      ]
     },
     "metadata": {
      "needs_background": "light"
     },
     "output_type": "display_data"
    }
   ],
   "source": [
    "sex.plot(kind=\"bar\",title=\"Genderwise chances of Stroke\",xlabel=\"Gender\",ylabel=\"Chances of Stroke\")"
   ]
  },
  {
   "cell_type": "markdown",
   "metadata": {},
   "source": [
    "#### Conclusion:\n",
    "This Shows that the the Gender doesnot affect the Chances of Stroke to a major extent. But to say Males are 0.5% more likely to get Stroke than Females"
   ]
  },
  {
   "cell_type": "markdown",
   "metadata": {},
   "source": [
    "## Analysis on Age"
   ]
  },
  {
   "cell_type": "code",
   "execution_count": 9,
   "metadata": {},
   "outputs": [
    {
     "data": {
      "text/plain": [
       "0.08"
      ]
     },
     "execution_count": 9,
     "metadata": {},
     "output_type": "execute_result"
    }
   ],
   "source": [
    "df2[\"age\"].min()"
   ]
  },
  {
   "cell_type": "code",
   "execution_count": 10,
   "metadata": {},
   "outputs": [
    {
     "data": {
      "text/plain": [
       "82.0"
      ]
     },
     "execution_count": 10,
     "metadata": {},
     "output_type": "execute_result"
    }
   ],
   "source": [
    "df2[\"age\"].max()"
   ]
  },
  {
   "cell_type": "markdown",
   "metadata": {},
   "source": [
    "Here since we have a values in range of 0.08-82 we need to group them for further analysis"
   ]
  },
  {
   "cell_type": "code",
   "execution_count": 11,
   "metadata": {},
   "outputs": [
    {
     "data": {
      "text/plain": [
       "0         (65.616, 82.0]\n",
       "1       (49.232, 65.616]\n",
       "2         (65.616, 82.0]\n",
       "3       (32.848, 49.232]\n",
       "4         (65.616, 82.0]\n",
       "              ...       \n",
       "5105      (65.616, 82.0]\n",
       "5106      (65.616, 82.0]\n",
       "5107    (32.848, 49.232]\n",
       "5108    (49.232, 65.616]\n",
       "5109    (32.848, 49.232]\n",
       "Name: Categorical_age, Length: 5109, dtype: category\n",
       "Categories (5, interval[float64]): [(-0.00192, 16.464] < (16.464, 32.848] < (32.848, 49.232] < (49.232, 65.616] < (65.616, 82.0]]"
      ]
     },
     "execution_count": 11,
     "metadata": {},
     "output_type": "execute_result"
    }
   ],
   "source": [
    "df2[\"Categorical_age\"]=pd.cut(df2[\"age\"],5) #Make age in 5 categories \n",
    "df2[\"Categorical_age\"]"
   ]
  },
  {
   "cell_type": "code",
   "execution_count": 12,
   "metadata": {},
   "outputs": [
    {
     "data": {
      "text/plain": [
       "(49.232, 65.616]      1245\n",
       "(32.848, 49.232]      1180\n",
       "(65.616, 82.0]         965\n",
       "(16.464, 32.848]       923\n",
       "(-0.00192, 16.464]     796\n",
       "Name: Categorical_age, dtype: int64"
      ]
     },
     "execution_count": 12,
     "metadata": {},
     "output_type": "execute_result"
    }
   ],
   "source": [
    "df2[\"Categorical_age\"].value_counts()"
   ]
  },
  {
   "cell_type": "code",
   "execution_count": 19,
   "metadata": {},
   "outputs": [
    {
     "data": {
      "text/html": [
       "<div>\n",
       "<style scoped>\n",
       "    .dataframe tbody tr th:only-of-type {\n",
       "        vertical-align: middle;\n",
       "    }\n",
       "\n",
       "    .dataframe tbody tr th {\n",
       "        vertical-align: top;\n",
       "    }\n",
       "\n",
       "    .dataframe thead th {\n",
       "        text-align: right;\n",
       "    }\n",
       "</style>\n",
       "<table border=\"1\" class=\"dataframe\">\n",
       "  <thead>\n",
       "    <tr style=\"text-align: right;\">\n",
       "      <th></th>\n",
       "      <th>stroke</th>\n",
       "    </tr>\n",
       "    <tr>\n",
       "      <th>Categorical_age</th>\n",
       "      <th></th>\n",
       "    </tr>\n",
       "  </thead>\n",
       "  <tbody>\n",
       "    <tr>\n",
       "      <th>(65.616, 82.0]</th>\n",
       "      <td>0.161658</td>\n",
       "    </tr>\n",
       "    <tr>\n",
       "      <th>(49.232, 65.616]</th>\n",
       "      <td>0.058635</td>\n",
       "    </tr>\n",
       "    <tr>\n",
       "      <th>(32.848, 49.232]</th>\n",
       "      <td>0.014407</td>\n",
       "    </tr>\n",
       "    <tr>\n",
       "      <th>(-0.00192, 16.464]</th>\n",
       "      <td>0.002513</td>\n",
       "    </tr>\n",
       "    <tr>\n",
       "      <th>(16.464, 32.848]</th>\n",
       "      <td>0.001083</td>\n",
       "    </tr>\n",
       "  </tbody>\n",
       "</table>\n",
       "</div>"
      ],
      "text/plain": [
       "                      stroke\n",
       "Categorical_age             \n",
       "(65.616, 82.0]      0.161658\n",
       "(49.232, 65.616]    0.058635\n",
       "(32.848, 49.232]    0.014407\n",
       "(-0.00192, 16.464]  0.002513\n",
       "(16.464, 32.848]    0.001083"
      ]
     },
     "execution_count": 19,
     "metadata": {},
     "output_type": "execute_result"
    }
   ],
   "source": [
    "age=df2[[\"Categorical_age\",\"stroke\"]].groupby([\"Categorical_age\"]).mean().sort_values(by=\"stroke\", ascending=False)\n",
    "age"
   ]
  },
  {
   "cell_type": "code",
   "execution_count": 20,
   "metadata": {},
   "outputs": [
    {
     "data": {
      "text/plain": [
       "<AxesSubplot:title={'center':'Agewise chances of Stroke'}, xlabel='Range of Age', ylabel='Chances of Stroke'>"
      ]
     },
     "execution_count": 20,
     "metadata": {},
     "output_type": "execute_result"
    },
    {
     "data": {
      "image/png": "[encoded data removed]",
      "text/plain": [
       "<Figure size 432x288 with 1 Axes>"
      ]
     },
     "metadata": {
      "needs_background": "light"
     },
     "output_type": "display_data"
    }
   ],
   "source": [
    "age.plot(kind=\"bar\",title=\"Agewise chances of Stroke\",xlabel=\"Range of Age\",ylabel=\"Chances of Stroke\")"
   ]
  },
  {
   "cell_type": "markdown",
   "metadata": {},
   "source": [
    "#### Conclusion:\n",
    "Chances of Stroke are more for higher age group \n",
    "\n",
    "People between age 65.6-82 are having more chances of having Stroke"
   ]
  },
  {
   "cell_type": "markdown",
   "metadata": {},
   "source": [
    "#### Checking for Outliers"
   ]
  },
  {
   "cell_type": "code",
   "execution_count": 13,
   "metadata": {},
   "outputs": [
    {
     "name": "stderr",
     "output_type": "stream",
     "text": [
      "C:\\Users\\Anuya\\anaconda3\\lib\\site-packages\\seaborn\\_decorators.py:36: FutureWarning: Pass the following variable as a keyword arg: x. From version 0.12, the only valid positional argument will be `data`, and passing other arguments without an explicit keyword will result in an error or misinterpretation.\n",
      "  warnings.warn(\n"
     ]
    },
    {
     "data": {
      "text/plain": [
       "<AxesSubplot:xlabel='age'>"
      ]
     },
     "execution_count": 13,
     "metadata": {},
     "output_type": "execute_result"
    },
    {
     "data": {
      "image/png": "[encoded data removed]",
      "text/plain": [
       "<Figure size 432x288 with 1 Axes>"
      ]
     },
     "metadata": {
      "needs_background": "light"
     },
     "output_type": "display_data"
    }
   ],
   "source": [
    "sns.boxplot(df2[\"age\"])"
   ]
  },
  {
   "cell_type": "markdown",
   "metadata": {},
   "source": [
    "We see no Outlier in Age Column. Thus further processing is not required here"
   ]
  },
  {
   "cell_type": "markdown",
   "metadata": {},
   "source": [
    "## Analysis on Pre-existing Health Conditions"
   ]
  },
  {
   "cell_type": "markdown",
   "metadata": {},
   "source": [
    "#### Analysis on Hypertension"
   ]
  },
  {
   "cell_type": "code",
   "execution_count": 21,
   "metadata": {},
   "outputs": [
    {
     "data": {
      "text/plain": [
       "0    4611\n",
       "1     498\n",
       "Name: hypertension, dtype: int64"
      ]
     },
     "execution_count": 21,
     "metadata": {},
     "output_type": "execute_result"
    }
   ],
   "source": [
    "df2[\"hypertension\"].value_counts()"
   ]
  },
  {
   "cell_type": "code",
   "execution_count": 22,
   "metadata": {},
   "outputs": [
    {
     "data": {
      "text/html": [
       "<div>\n",
       "<style scoped>\n",
       "    .dataframe tbody tr th:only-of-type {\n",
       "        vertical-align: middle;\n",
       "    }\n",
       "\n",
       "    .dataframe tbody tr th {\n",
       "        vertical-align: top;\n",
       "    }\n",
       "\n",
       "    .dataframe thead th {\n",
       "        text-align: right;\n",
       "    }\n",
       "</style>\n",
       "<table border=\"1\" class=\"dataframe\">\n",
       "  <thead>\n",
       "    <tr style=\"text-align: right;\">\n",
       "      <th></th>\n",
       "      <th>stroke</th>\n",
       "    </tr>\n",
       "    <tr>\n",
       "      <th>hypertension</th>\n",
       "      <th></th>\n",
       "    </tr>\n",
       "  </thead>\n",
       "  <tbody>\n",
       "    <tr>\n",
       "      <th>1</th>\n",
       "      <td>0.132530</td>\n",
       "    </tr>\n",
       "    <tr>\n",
       "      <th>0</th>\n",
       "      <td>0.039688</td>\n",
       "    </tr>\n",
       "  </tbody>\n",
       "</table>\n",
       "</div>"
      ],
      "text/plain": [
       "                stroke\n",
       "hypertension          \n",
       "1             0.132530\n",
       "0             0.039688"
      ]
     },
     "execution_count": 22,
     "metadata": {},
     "output_type": "execute_result"
    }
   ],
   "source": [
    "hyp=df2[[\"hypertension\",\"stroke\"]].groupby([\"hypertension\"]).mean().sort_values(by=\"stroke\", ascending=False)\n",
    "hyp"
   ]
  },
  {
   "cell_type": "code",
   "execution_count": 23,
   "metadata": {},
   "outputs": [
    {
     "data": {
      "text/plain": [
       "<AxesSubplot:title={'center':'Chances of Stroke with Hypertension'}, xlabel='Hypertension\\n 0:No Hypertension \\n 1: Hypertension', ylabel='Chances of Stroke'>"
      ]
     },
     "execution_count": 23,
     "metadata": {},
     "output_type": "execute_result"
    },
    {
     "data": {
      "image/png": "[encoded data removed]",
      "text/plain": [
       "<Figure size 432x288 with 1 Axes>"
      ]
     },
     "metadata": {
      "needs_background": "light"
     },
     "output_type": "display_data"
    }
   ],
   "source": [
    "hyp.plot(kind=\"bar\",title=\"Chances of Stroke with Hypertension\",xlabel=\"Hypertension\\n 0:No Hypertension \\n 1: Hypertension\",ylabel=\"Chances of Stroke\")"
   ]
  },
  {
   "cell_type": "markdown",
   "metadata": {},
   "source": [
    "#### Conclusion:\n",
    "People with Hypertension have more Chances of getting stroke"
   ]
  },
  {
   "cell_type": "markdown",
   "metadata": {},
   "source": [
    "#### Analysis on Heart Disease"
   ]
  },
  {
   "cell_type": "code",
   "execution_count": 12,
   "metadata": {},
   "outputs": [
    {
     "data": {
      "text/plain": [
       "0    4833\n",
       "1     276\n",
       "Name: heart_disease, dtype: int64"
      ]
     },
     "execution_count": 12,
     "metadata": {},
     "output_type": "execute_result"
    }
   ],
   "source": [
    "df2[\"heart_disease\"].value_counts()"
   ]
  },
  {
   "cell_type": "code",
   "execution_count": 13,
   "metadata": {},
   "outputs": [
    {
     "data": {
      "text/html": [
       "<div>\n",
       "<style scoped>\n",
       "    .dataframe tbody tr th:only-of-type {\n",
       "        vertical-align: middle;\n",
       "    }\n",
       "\n",
       "    .dataframe tbody tr th {\n",
       "        vertical-align: top;\n",
       "    }\n",
       "\n",
       "    .dataframe thead th {\n",
       "        text-align: right;\n",
       "    }\n",
       "</style>\n",
       "<table border=\"1\" class=\"dataframe\">\n",
       "  <thead>\n",
       "    <tr style=\"text-align: right;\">\n",
       "      <th></th>\n",
       "      <th>stroke</th>\n",
       "    </tr>\n",
       "    <tr>\n",
       "      <th>heart_disease</th>\n",
       "      <th></th>\n",
       "    </tr>\n",
       "  </thead>\n",
       "  <tbody>\n",
       "    <tr>\n",
       "      <th>1</th>\n",
       "      <td>0.170290</td>\n",
       "    </tr>\n",
       "    <tr>\n",
       "      <th>0</th>\n",
       "      <td>0.041796</td>\n",
       "    </tr>\n",
       "  </tbody>\n",
       "</table>\n",
       "</div>"
      ],
      "text/plain": [
       "                 stroke\n",
       "heart_disease          \n",
       "1              0.170290\n",
       "0              0.041796"
      ]
     },
     "execution_count": 13,
     "metadata": {},
     "output_type": "execute_result"
    }
   ],
   "source": [
    "hd=df2[[\"heart_disease\",\"stroke\"]].groupby([\"heart_disease\"]).mean().sort_values(by=\"stroke\", ascending=False)\n",
    "hd"
   ]
  },
  {
   "cell_type": "code",
   "execution_count": 14,
   "metadata": {},
   "outputs": [
    {
     "data": {
      "text/plain": [
       "<AxesSubplot:title={'center':'Chances of Stroke with Heart Disease'}, xlabel='Heart Disease \\n 0:No Heart Disease\\n1:Heart disease', ylabel='Chances of Stroke'>"
      ]
     },
     "execution_count": 14,
     "metadata": {},
     "output_type": "execute_result"
    },
    {
     "data": {
      "image/png": "[encoded data removed]",
      "text/plain": [
       "<Figure size 432x288 with 1 Axes>"
      ]
     },
     "metadata": {
      "needs_background": "light"
     },
     "output_type": "display_data"
    }
   ],
   "source": [
    "hd.plot(kind=\"bar\",title=\"Chances of Stroke with Heart Disease\",xlabel=\"Heart Disease \\n 0:No Heart Disease\\n1:Heart disease\",ylabel=\"Chances of Stroke\")"
   ]
  },
  {
   "cell_type": "markdown",
   "metadata": {},
   "source": [
    "#### Conclusion:\n",
    "People with Heart Disease have more chance of getting Stroke"
   ]
  },
  {
   "cell_type": "markdown",
   "metadata": {},
   "source": [
    "#### Combined Analysis of Heart Disease and Hypertension"
   ]
  },
  {
   "cell_type": "code",
   "execution_count": 15,
   "metadata": {},
   "outputs": [
    {
     "data": {
      "text/html": [
       "<div>\n",
       "<style scoped>\n",
       "    .dataframe tbody tr th:only-of-type {\n",
       "        vertical-align: middle;\n",
       "    }\n",
       "\n",
       "    .dataframe tbody tr th {\n",
       "        vertical-align: top;\n",
       "    }\n",
       "\n",
       "    .dataframe thead th {\n",
       "        text-align: right;\n",
       "    }\n",
       "</style>\n",
       "<table border=\"1\" class=\"dataframe\">\n",
       "  <thead>\n",
       "    <tr style=\"text-align: right;\">\n",
       "      <th></th>\n",
       "      <th></th>\n",
       "      <th>stroke</th>\n",
       "    </tr>\n",
       "    <tr>\n",
       "      <th>heart_disease</th>\n",
       "      <th>hypertension</th>\n",
       "      <th></th>\n",
       "    </tr>\n",
       "  </thead>\n",
       "  <tbody>\n",
       "    <tr>\n",
       "      <th rowspan=\"2\" valign=\"top\">0</th>\n",
       "      <th>0</th>\n",
       "      <td>0.033871</td>\n",
       "    </tr>\n",
       "    <tr>\n",
       "      <th>1</th>\n",
       "      <td>0.122120</td>\n",
       "    </tr>\n",
       "    <tr>\n",
       "      <th rowspan=\"2\" valign=\"top\">1</th>\n",
       "      <th>0</th>\n",
       "      <td>0.160377</td>\n",
       "    </tr>\n",
       "    <tr>\n",
       "      <th>1</th>\n",
       "      <td>0.203125</td>\n",
       "    </tr>\n",
       "  </tbody>\n",
       "</table>\n",
       "</div>"
      ],
      "text/plain": [
       "                              stroke\n",
       "heart_disease hypertension          \n",
       "0             0             0.033871\n",
       "              1             0.122120\n",
       "1             0             0.160377\n",
       "              1             0.203125"
      ]
     },
     "execution_count": 15,
     "metadata": {},
     "output_type": "execute_result"
    }
   ],
   "source": [
    "hyp_hd=df2[[\"heart_disease\",\"hypertension\",\"stroke\"]].groupby([\"heart_disease\",\"hypertension\"]).mean()\n",
    "hyp_hd"
   ]
  },
  {
   "cell_type": "code",
   "execution_count": 28,
   "metadata": {},
   "outputs": [
    {
     "data": {
      "text/plain": [
       "<AxesSubplot:title={'center':'Pre exsting Health condition vs Chances of Stroke'}, xlabel='(Heart Disease, Hypertension)'>"
      ]
     },
     "execution_count": 28,
     "metadata": {},
     "output_type": "execute_result"
    },
    {
     "data": {
      "image/png": "[encoded data removed]",
      "text/plain": [
       "<Figure size 432x288 with 1 Axes>"
      ]
     },
     "metadata": {
      "needs_background": "light"
     },
     "output_type": "display_data"
    }
   ],
   "source": [
    "hyp_hd.plot(kind=\"bar\", title=\"Pre exsting Health condition vs Chances of Stroke\", xlabel=\"(Heart Disease, Hypertension)\")"
   ]
  },
  {
   "cell_type": "markdown",
   "metadata": {},
   "source": [
    "#### Conclusion:\n",
    "The Chances of having stroke increases with both the health conditions, Heart Disease and Hyoertension"
   ]
  },
  {
   "cell_type": "markdown",
   "metadata": {},
   "source": [
    "## Analysis on Maritial Status"
   ]
  },
  {
   "cell_type": "code",
   "execution_count": 29,
   "metadata": {},
   "outputs": [
    {
     "data": {
      "text/plain": [
       "Yes    3353\n",
       "No     1756\n",
       "Name: ever_married, dtype: int64"
      ]
     },
     "execution_count": 29,
     "metadata": {},
     "output_type": "execute_result"
    }
   ],
   "source": [
    "df2[\"ever_married\"].value_counts()"
   ]
  },
  {
   "cell_type": "code",
   "execution_count": 30,
   "metadata": {},
   "outputs": [
    {
     "data": {
      "text/html": [
       "<div>\n",
       "<style scoped>\n",
       "    .dataframe tbody tr th:only-of-type {\n",
       "        vertical-align: middle;\n",
       "    }\n",
       "\n",
       "    .dataframe tbody tr th {\n",
       "        vertical-align: top;\n",
       "    }\n",
       "\n",
       "    .dataframe thead th {\n",
       "        text-align: right;\n",
       "    }\n",
       "</style>\n",
       "<table border=\"1\" class=\"dataframe\">\n",
       "  <thead>\n",
       "    <tr style=\"text-align: right;\">\n",
       "      <th></th>\n",
       "      <th>stroke</th>\n",
       "    </tr>\n",
       "    <tr>\n",
       "      <th>ever_married</th>\n",
       "      <th></th>\n",
       "    </tr>\n",
       "  </thead>\n",
       "  <tbody>\n",
       "    <tr>\n",
       "      <th>Yes</th>\n",
       "      <td>0.065613</td>\n",
       "    </tr>\n",
       "    <tr>\n",
       "      <th>No</th>\n",
       "      <td>0.016515</td>\n",
       "    </tr>\n",
       "  </tbody>\n",
       "</table>\n",
       "</div>"
      ],
      "text/plain": [
       "                stroke\n",
       "ever_married          \n",
       "Yes           0.065613\n",
       "No            0.016515"
      ]
     },
     "execution_count": 30,
     "metadata": {},
     "output_type": "execute_result"
    }
   ],
   "source": [
    "ms=df2[[\"ever_married\",\"stroke\"]].groupby([\"ever_married\"]).mean().sort_values(by=\"stroke\", ascending=False)\n",
    "ms"
   ]
  },
  {
   "cell_type": "code",
   "execution_count": 31,
   "metadata": {},
   "outputs": [
    {
     "data": {
      "text/plain": [
       "<AxesSubplot:title={'center':'Chances of Stroke based on Marital Status'}, xlabel='Is the person married'>"
      ]
     },
     "execution_count": 31,
     "metadata": {},
     "output_type": "execute_result"
    },
    {
     "data": {
      "image/png": "[encoded data removed]",
      "text/plain": [
       "<Figure size 432x288 with 1 Axes>"
      ]
     },
     "metadata": {
      "needs_background": "light"
     },
     "output_type": "display_data"
    }
   ],
   "source": [
    "ms.plot(kind=\"bar\", title=\"Chances of Stroke based on Marital Status\", xlabel=\"Is the person married\")"
   ]
  },
  {
   "cell_type": "markdown",
   "metadata": {},
   "source": [
    "#### Conclusion:\n",
    "The Chances of Stroke are increased if the person is married"
   ]
  },
  {
   "cell_type": "markdown",
   "metadata": {},
   "source": [
    "#### Combined Analysis of Gender and Ever Married"
   ]
  },
  {
   "cell_type": "code",
   "execution_count": 32,
   "metadata": {},
   "outputs": [
    {
     "data": {
      "text/html": [
       "<div>\n",
       "<style scoped>\n",
       "    .dataframe tbody tr th:only-of-type {\n",
       "        vertical-align: middle;\n",
       "    }\n",
       "\n",
       "    .dataframe tbody tr th {\n",
       "        vertical-align: top;\n",
       "    }\n",
       "\n",
       "    .dataframe thead th {\n",
       "        text-align: right;\n",
       "    }\n",
       "</style>\n",
       "<table border=\"1\" class=\"dataframe\">\n",
       "  <thead>\n",
       "    <tr style=\"text-align: right;\">\n",
       "      <th></th>\n",
       "      <th></th>\n",
       "      <th>stroke</th>\n",
       "    </tr>\n",
       "    <tr>\n",
       "      <th>gender</th>\n",
       "      <th>ever_married</th>\n",
       "      <th></th>\n",
       "    </tr>\n",
       "  </thead>\n",
       "  <tbody>\n",
       "    <tr>\n",
       "      <th>Male</th>\n",
       "      <th>Yes</th>\n",
       "      <td>0.073964</td>\n",
       "    </tr>\n",
       "    <tr>\n",
       "      <th rowspan=\"2\" valign=\"top\">Female</th>\n",
       "      <th>Yes</th>\n",
       "      <td>0.059970</td>\n",
       "    </tr>\n",
       "    <tr>\n",
       "      <th>No</th>\n",
       "      <td>0.021148</td>\n",
       "    </tr>\n",
       "    <tr>\n",
       "      <th>Male</th>\n",
       "      <th>No</th>\n",
       "      <td>0.010485</td>\n",
       "    </tr>\n",
       "  </tbody>\n",
       "</table>\n",
       "</div>"
      ],
      "text/plain": [
       "                       stroke\n",
       "gender ever_married          \n",
       "Male   Yes           0.073964\n",
       "Female Yes           0.059970\n",
       "       No            0.021148\n",
       "Male   No            0.010485"
      ]
     },
     "execution_count": 32,
     "metadata": {},
     "output_type": "execute_result"
    }
   ],
   "source": [
    "em_sex=df2[[\"ever_married\",\"gender\",\"stroke\"]].groupby([\"gender\",\"ever_married\"]).mean().sort_values(by=\"stroke\", ascending=False)\n",
    "em_sex"
   ]
  },
  {
   "cell_type": "code",
   "execution_count": 33,
   "metadata": {},
   "outputs": [
    {
     "data": {
      "text/plain": [
       "<AxesSubplot:title={'center':'Chances of Stroke based on Marital Status and Gender'}, xlabel='(Gender, Married)'>"
      ]
     },
     "execution_count": 33,
     "metadata": {},
     "output_type": "execute_result"
    },
    {
     "data": {
      "image/png": "[encoded data removed]",
      "text/plain": [
       "<Figure size 432x288 with 1 Axes>"
      ]
     },
     "metadata": {
      "needs_background": "light"
     },
     "output_type": "display_data"
    }
   ],
   "source": [
    "em_sex.plot(kind=\"bar\", title=\"Chances of Stroke based on Marital Status and Gender\", xlabel=\"(Gender, Married)\")"
   ]
  },
  {
   "cell_type": "markdown",
   "metadata": {},
   "source": [
    "#### Conclusion:\n",
    "Married Males have more chances of getting Stroke followed by Married Females"
   ]
  },
  {
   "cell_type": "markdown",
   "metadata": {},
   "source": [
    "### Analysis on Work Type"
   ]
  },
  {
   "cell_type": "code",
   "execution_count": 34,
   "metadata": {},
   "outputs": [
    {
     "data": {
      "text/plain": [
       "Private          2924\n",
       "Self-employed     819\n",
       "children          687\n",
       "Govt_job          657\n",
       "Never_worked       22\n",
       "Name: work_type, dtype: int64"
      ]
     },
     "execution_count": 34,
     "metadata": {},
     "output_type": "execute_result"
    }
   ],
   "source": [
    "df2[\"work_type\"].value_counts()"
   ]
  },
  {
   "cell_type": "code",
   "execution_count": 35,
   "metadata": {},
   "outputs": [
    {
     "data": {
      "text/html": [
       "<div>\n",
       "<style scoped>\n",
       "    .dataframe tbody tr th:only-of-type {\n",
       "        vertical-align: middle;\n",
       "    }\n",
       "\n",
       "    .dataframe tbody tr th {\n",
       "        vertical-align: top;\n",
       "    }\n",
       "\n",
       "    .dataframe thead th {\n",
       "        text-align: right;\n",
       "    }\n",
       "</style>\n",
       "<table border=\"1\" class=\"dataframe\">\n",
       "  <thead>\n",
       "    <tr style=\"text-align: right;\">\n",
       "      <th></th>\n",
       "      <th>stroke</th>\n",
       "    </tr>\n",
       "    <tr>\n",
       "      <th>work_type</th>\n",
       "      <th></th>\n",
       "    </tr>\n",
       "  </thead>\n",
       "  <tbody>\n",
       "    <tr>\n",
       "      <th>Self-employed</th>\n",
       "      <td>0.079365</td>\n",
       "    </tr>\n",
       "    <tr>\n",
       "      <th>Private</th>\n",
       "      <td>0.050958</td>\n",
       "    </tr>\n",
       "    <tr>\n",
       "      <th>Govt_job</th>\n",
       "      <td>0.050228</td>\n",
       "    </tr>\n",
       "    <tr>\n",
       "      <th>children</th>\n",
       "      <td>0.002911</td>\n",
       "    </tr>\n",
       "    <tr>\n",
       "      <th>Never_worked</th>\n",
       "      <td>0.000000</td>\n",
       "    </tr>\n",
       "  </tbody>\n",
       "</table>\n",
       "</div>"
      ],
      "text/plain": [
       "                 stroke\n",
       "work_type              \n",
       "Self-employed  0.079365\n",
       "Private        0.050958\n",
       "Govt_job       0.050228\n",
       "children       0.002911\n",
       "Never_worked   0.000000"
      ]
     },
     "execution_count": 35,
     "metadata": {},
     "output_type": "execute_result"
    }
   ],
   "source": [
    "wt=df2[[\"work_type\",\"stroke\"]].groupby([\"work_type\"]).mean().sort_values(by=\"stroke\", ascending=False)\n",
    "wt"
   ]
  },
  {
   "cell_type": "code",
   "execution_count": 36,
   "metadata": {},
   "outputs": [
    {
     "data": {
      "text/plain": [
       "<AxesSubplot:title={'center':'Chances of Stroke based on Job Type'}, xlabel='Type of Job'>"
      ]
     },
     "execution_count": 36,
     "metadata": {},
     "output_type": "execute_result"
    },
    {
     "data": {
      "image/png": "[encoded data removed]",
      "text/plain": [
       "<Figure size 432x288 with 1 Axes>"
      ]
     },
     "metadata": {
      "needs_background": "light"
     },
     "output_type": "display_data"
    }
   ],
   "source": [
    "wt.plot(kind=\"bar\", title=\"Chances of Stroke based on Job Type\", xlabel=\"Type of Job\")"
   ]
  },
  {
   "cell_type": "markdown",
   "metadata": {},
   "source": [
    "#### Conclusion:\n",
    "Self Employed people are more likely to get Stroke\n",
    "\n",
    "Children and People who donot work are least likely to have Stroke"
   ]
  },
  {
   "cell_type": "markdown",
   "metadata": {},
   "source": [
    "### Analysis on Residence Type"
   ]
  },
  {
   "cell_type": "code",
   "execution_count": 37,
   "metadata": {},
   "outputs": [
    {
     "data": {
      "text/plain": [
       "Urban    2596\n",
       "Rural    2513\n",
       "Name: Residence_type, dtype: int64"
      ]
     },
     "execution_count": 37,
     "metadata": {},
     "output_type": "execute_result"
    }
   ],
   "source": [
    "df2[\"Residence_type\"].value_counts()"
   ]
  },
  {
   "cell_type": "code",
   "execution_count": 38,
   "metadata": {},
   "outputs": [
    {
     "data": {
      "text/html": [
       "<div>\n",
       "<style scoped>\n",
       "    .dataframe tbody tr th:only-of-type {\n",
       "        vertical-align: middle;\n",
       "    }\n",
       "\n",
       "    .dataframe tbody tr th {\n",
       "        vertical-align: top;\n",
       "    }\n",
       "\n",
       "    .dataframe thead th {\n",
       "        text-align: right;\n",
       "    }\n",
       "</style>\n",
       "<table border=\"1\" class=\"dataframe\">\n",
       "  <thead>\n",
       "    <tr style=\"text-align: right;\">\n",
       "      <th></th>\n",
       "      <th>stroke</th>\n",
       "    </tr>\n",
       "    <tr>\n",
       "      <th>Residence_type</th>\n",
       "      <th></th>\n",
       "    </tr>\n",
       "  </thead>\n",
       "  <tbody>\n",
       "    <tr>\n",
       "      <th>Urban</th>\n",
       "      <td>0.052003</td>\n",
       "    </tr>\n",
       "    <tr>\n",
       "      <th>Rural</th>\n",
       "      <td>0.045364</td>\n",
       "    </tr>\n",
       "  </tbody>\n",
       "</table>\n",
       "</div>"
      ],
      "text/plain": [
       "                  stroke\n",
       "Residence_type          \n",
       "Urban           0.052003\n",
       "Rural           0.045364"
      ]
     },
     "execution_count": 38,
     "metadata": {},
     "output_type": "execute_result"
    }
   ],
   "source": [
    "rt=df2[[\"Residence_type\",\"stroke\"]].groupby([\"Residence_type\"]).mean().sort_values(by=\"stroke\", ascending=False)\n",
    "rt"
   ]
  },
  {
   "cell_type": "code",
   "execution_count": 39,
   "metadata": {},
   "outputs": [
    {
     "data": {
      "text/plain": [
       "<AxesSubplot:title={'center':'Chances of Stroke based on Area'}, xlabel='Urban or Rural'>"
      ]
     },
     "execution_count": 39,
     "metadata": {},
     "output_type": "execute_result"
    },
    {
     "data": {
      "image/png": "[encoded data removed]",
      "text/plain": [
       "<Figure size 432x288 with 1 Axes>"
      ]
     },
     "metadata": {
      "needs_background": "light"
     },
     "output_type": "display_data"
    }
   ],
   "source": [
    "rt.plot(kind=\"bar\", title=\"Chances of Stroke based on Area\", xlabel=\"Urban or Rural\")"
   ]
  },
  {
   "cell_type": "markdown",
   "metadata": {},
   "source": [
    "#### Conclusion:\n",
    "Area of Residence Urban or Rural doesnot have much effect on having Stroke"
   ]
  },
  {
   "cell_type": "markdown",
   "metadata": {},
   "source": [
    "### Analysis on Smoking Status"
   ]
  },
  {
   "cell_type": "code",
   "execution_count": 40,
   "metadata": {},
   "outputs": [
    {
     "data": {
      "text/plain": [
       "never smoked       1892\n",
       "Unknown            1544\n",
       "formerly smoked     884\n",
       "smokes              789\n",
       "Name: smoking_status, dtype: int64"
      ]
     },
     "execution_count": 40,
     "metadata": {},
     "output_type": "execute_result"
    }
   ],
   "source": [
    "df2[\"smoking_status\"].value_counts()"
   ]
  },
  {
   "cell_type": "code",
   "execution_count": 41,
   "metadata": {},
   "outputs": [
    {
     "data": {
      "text/html": [
       "<div>\n",
       "<style scoped>\n",
       "    .dataframe tbody tr th:only-of-type {\n",
       "        vertical-align: middle;\n",
       "    }\n",
       "\n",
       "    .dataframe tbody tr th {\n",
       "        vertical-align: top;\n",
       "    }\n",
       "\n",
       "    .dataframe thead th {\n",
       "        text-align: right;\n",
       "    }\n",
       "</style>\n",
       "<table border=\"1\" class=\"dataframe\">\n",
       "  <thead>\n",
       "    <tr style=\"text-align: right;\">\n",
       "      <th></th>\n",
       "      <th>stroke</th>\n",
       "    </tr>\n",
       "    <tr>\n",
       "      <th>smoking_status</th>\n",
       "      <th></th>\n",
       "    </tr>\n",
       "  </thead>\n",
       "  <tbody>\n",
       "    <tr>\n",
       "      <th>formerly smoked</th>\n",
       "      <td>0.079186</td>\n",
       "    </tr>\n",
       "    <tr>\n",
       "      <th>smokes</th>\n",
       "      <td>0.053232</td>\n",
       "    </tr>\n",
       "    <tr>\n",
       "      <th>never smoked</th>\n",
       "      <td>0.047569</td>\n",
       "    </tr>\n",
       "    <tr>\n",
       "      <th>Unknown</th>\n",
       "      <td>0.030440</td>\n",
       "    </tr>\n",
       "  </tbody>\n",
       "</table>\n",
       "</div>"
      ],
      "text/plain": [
       "                   stroke\n",
       "smoking_status           \n",
       "formerly smoked  0.079186\n",
       "smokes           0.053232\n",
       "never smoked     0.047569\n",
       "Unknown          0.030440"
      ]
     },
     "execution_count": 41,
     "metadata": {},
     "output_type": "execute_result"
    }
   ],
   "source": [
    "ss=df2[[\"smoking_status\",\"stroke\"]].groupby([\"smoking_status\"]).mean().sort_values(by=\"stroke\", ascending=False)\n",
    "ss"
   ]
  },
  {
   "cell_type": "code",
   "execution_count": 42,
   "metadata": {},
   "outputs": [
    {
     "data": {
      "text/plain": [
       "<AxesSubplot:title={'center':'Chances of Stroke based on Smoking Status'}, xlabel='Smoking Status'>"
      ]
     },
     "execution_count": 42,
     "metadata": {},
     "output_type": "execute_result"
    },
    {
     "data": {
      "image/png": "[encoded data removed]",
      "text/plain": [
       "<Figure size 432x288 with 1 Axes>"
      ]
     },
     "metadata": {
      "needs_background": "light"
     },
     "output_type": "display_data"
    }
   ],
   "source": [
    "ss.plot(kind=\"bar\", title=\"Chances of Stroke based on Smoking Status\", xlabel=\"Smoking Status\")"
   ]
  },
  {
   "cell_type": "markdown",
   "metadata": {},
   "source": [
    "#### Conclusion:\n",
    "Formerly Smoked people are more likely to have Stroke according to the data"
   ]
  },
  {
   "cell_type": "markdown",
   "metadata": {},
   "source": [
    "### Analysis on Glucose Level"
   ]
  },
  {
   "cell_type": "code",
   "execution_count": 43,
   "metadata": {},
   "outputs": [
    {
     "data": {
      "text/plain": [
       "55.12"
      ]
     },
     "execution_count": 43,
     "metadata": {},
     "output_type": "execute_result"
    }
   ],
   "source": [
    "df2['avg_glucose_level'].min()"
   ]
  },
  {
   "cell_type": "code",
   "execution_count": 44,
   "metadata": {},
   "outputs": [
    {
     "data": {
      "text/plain": [
       "271.74"
      ]
     },
     "execution_count": 44,
     "metadata": {},
     "output_type": "execute_result"
    }
   ],
   "source": [
    "df2['avg_glucose_level'].max()"
   ]
  },
  {
   "cell_type": "markdown",
   "metadata": {},
   "source": [
    "Since we have a range of values we combine them into groups for further analysis"
   ]
  },
  {
   "cell_type": "code",
   "execution_count": 70,
   "metadata": {},
   "outputs": [
    {
     "data": {
      "text/plain": [
       "0        (199.533, 271.74]\n",
       "1        (199.533, 271.74]\n",
       "2        (54.903, 127.327]\n",
       "3       (127.327, 199.533]\n",
       "4       (127.327, 199.533]\n",
       "               ...        \n",
       "5105     (54.903, 127.327]\n",
       "5106     (54.903, 127.327]\n",
       "5107     (54.903, 127.327]\n",
       "5108    (127.327, 199.533]\n",
       "5109     (54.903, 127.327]\n",
       "Name: Glucose, Length: 5109, dtype: category\n",
       "Categories (3, interval[float64]): [(54.903, 127.327] < (127.327, 199.533] < (199.533, 271.74]]"
      ]
     },
     "execution_count": 70,
     "metadata": {},
     "output_type": "execute_result"
    }
   ],
   "source": [
    "df2[\"Glucose\"]=pd.cut(df2['avg_glucose_level'],3) # Divide average glucose level in 3 categories \n",
    "df2[\"Glucose\"]"
   ]
  },
  {
   "cell_type": "code",
   "execution_count": 71,
   "metadata": {},
   "outputs": [
    {
     "data": {
      "text/html": [
       "<div>\n",
       "<style scoped>\n",
       "    .dataframe tbody tr th:only-of-type {\n",
       "        vertical-align: middle;\n",
       "    }\n",
       "\n",
       "    .dataframe tbody tr th {\n",
       "        vertical-align: top;\n",
       "    }\n",
       "\n",
       "    .dataframe thead th {\n",
       "        text-align: right;\n",
       "    }\n",
       "</style>\n",
       "<table border=\"1\" class=\"dataframe\">\n",
       "  <thead>\n",
       "    <tr style=\"text-align: right;\">\n",
       "      <th></th>\n",
       "      <th>stroke</th>\n",
       "    </tr>\n",
       "    <tr>\n",
       "      <th>Glucose</th>\n",
       "      <th></th>\n",
       "    </tr>\n",
       "  </thead>\n",
       "  <tbody>\n",
       "    <tr>\n",
       "      <th>(199.533, 271.74]</th>\n",
       "      <td>0.131818</td>\n",
       "    </tr>\n",
       "    <tr>\n",
       "      <th>(127.327, 199.533]</th>\n",
       "      <td>0.079922</td>\n",
       "    </tr>\n",
       "    <tr>\n",
       "      <th>(54.903, 127.327]</th>\n",
       "      <td>0.036092</td>\n",
       "    </tr>\n",
       "  </tbody>\n",
       "</table>\n",
       "</div>"
      ],
      "text/plain": [
       "                      stroke\n",
       "Glucose                     \n",
       "(199.533, 271.74]   0.131818\n",
       "(127.327, 199.533]  0.079922\n",
       "(54.903, 127.327]   0.036092"
      ]
     },
     "execution_count": 71,
     "metadata": {},
     "output_type": "execute_result"
    }
   ],
   "source": [
    "age=df2[[\"Glucose\",\"stroke\"]].groupby([\"Glucose\"]).mean().sort_values(by=\"stroke\", ascending=False)\n",
    "age"
   ]
  },
  {
   "cell_type": "code",
   "execution_count": 47,
   "metadata": {},
   "outputs": [
    {
     "data": {
      "text/plain": [
       "<AxesSubplot:title={'center':'Chances of Stroke based on Glucose Level'}, xlabel='Glucose Level'>"
      ]
     },
     "execution_count": 47,
     "metadata": {},
     "output_type": "execute_result"
    },
    {
     "data": {
      "image/png": "[encoded data removed]",
      "text/plain": [
       "<Figure size 432x288 with 1 Axes>"
      ]
     },
     "metadata": {
      "needs_background": "light"
     },
     "output_type": "display_data"
    }
   ],
   "source": [
    "age.plot(kind=\"bar\", title=\"Chances of Stroke based on Glucose Level\", xlabel=\"Glucose Level\")"
   ]
  },
  {
   "cell_type": "markdown",
   "metadata": {},
   "source": [
    "#### Conclusion:\n",
    "People with High Glucose Levels exceding 199 are more likely to have Stroke"
   ]
  },
  {
   "cell_type": "markdown",
   "metadata": {},
   "source": [
    "#### Checking for Outliers"
   ]
  },
  {
   "cell_type": "code",
   "execution_count": 14,
   "metadata": {},
   "outputs": [
    {
     "name": "stderr",
     "output_type": "stream",
     "text": [
      "C:\\Users\\Anuya\\anaconda3\\lib\\site-packages\\seaborn\\_decorators.py:36: FutureWarning: Pass the following variable as a keyword arg: x. From version 0.12, the only valid positional argument will be `data`, and passing other arguments without an explicit keyword will result in an error or misinterpretation.\n",
      "  warnings.warn(\n"
     ]
    },
    {
     "data": {
      "text/plain": [
       "<AxesSubplot:xlabel='avg_glucose_level'>"
      ]
     },
     "execution_count": 14,
     "metadata": {},
     "output_type": "execute_result"
    },
    {
     "data": {
      "image/png": "[encoded data removed]",
      "text/plain": [
       "<Figure size 432x288 with 1 Axes>"
      ]
     },
     "metadata": {
      "needs_background": "light"
     },
     "output_type": "display_data"
    }
   ],
   "source": [
    "sns.boxplot(df2[\"avg_glucose_level\"])"
   ]
  },
  {
   "cell_type": "code",
   "execution_count": 18,
   "metadata": {},
   "outputs": [
    {
     "name": "stdout",
     "output_type": "stream",
     "text": [
      "Number of Outliers:  165\n"
     ]
    }
   ],
   "source": [
    "Q1=df2.avg_glucose_level.quantile(0.25)\n",
    "Q3=df2.avg_glucose_level.quantile(0.75)\n",
    "IQR=Q3-Q1\n",
    "u=Q3+(3*IQR)\n",
    "L=Q1-(3*IQR)\n",
    "df3=df2[(df2[\"avg_glucose_level\"]<L)|(df2[\"avg_glucose_level\"]>u)]\n",
    "print(\"Number of Outliers: \", df3.shape[0])"
   ]
  },
  {
   "cell_type": "markdown",
   "metadata": {},
   "source": [
    "Since the data has 165 Outliers we go ahead and do the processing on the outliers \n",
    "\n",
    "Here we are going to convert the Outlier values: Values below the Lower level are given the value of Lower level while that above Higher Level are given the value of Higher level."
   ]
  },
  {
   "cell_type": "code",
   "execution_count": 23,
   "metadata": {},
   "outputs": [],
   "source": [
    "for i,data in df2.iterrows():\n",
    "    if data[\"avg_glucose_level\"]<L:\n",
    "        df2.at[i,\"avg_glucose_level\"]=L\n",
    "    elif data[\"avg_glucose_level\"]>u:\n",
    "        df2.at[i,\"avg_glucose_level\"]=u"
   ]
  },
  {
   "cell_type": "markdown",
   "metadata": {},
   "source": [
    "### Analysis on BMI"
   ]
  },
  {
   "cell_type": "code",
   "execution_count": 31,
   "metadata": {},
   "outputs": [
    {
     "data": {
      "text/plain": [
       "28.7    41\n",
       "28.4    38\n",
       "27.7    37\n",
       "27.6    37\n",
       "26.1    37\n",
       "        ..\n",
       "51.0     1\n",
       "13.9     1\n",
       "54.0     1\n",
       "59.7     1\n",
       "54.8     1\n",
       "Name: bmi, Length: 411, dtype: int64"
      ]
     },
     "execution_count": 31,
     "metadata": {},
     "output_type": "execute_result"
    }
   ],
   "source": [
    "df2[\"bmi\"].value_counts()"
   ]
  },
  {
   "cell_type": "code",
   "execution_count": 17,
   "metadata": {},
   "outputs": [
    {
     "data": {
      "text/plain": [
       "201"
      ]
     },
     "execution_count": 17,
     "metadata": {},
     "output_type": "execute_result"
    }
   ],
   "source": [
    "mv_bmi=df2[\"bmi\"].isna().sum()\n",
    "mv_bmi"
   ]
  },
  {
   "cell_type": "code",
   "execution_count": 22,
   "metadata": {},
   "outputs": [
    {
     "data": {
      "text/plain": [
       "(5109, 12)"
      ]
     },
     "execution_count": 22,
     "metadata": {},
     "output_type": "execute_result"
    }
   ],
   "source": [
    "df2.shape"
   ]
  },
  {
   "cell_type": "code",
   "execution_count": 24,
   "metadata": {},
   "outputs": [
    {
     "name": "stdout",
     "output_type": "stream",
     "text": [
      "3.9342 % Missing Values\n"
     ]
    }
   ],
   "source": [
    "d=(100*mv_bmi)/5109\n",
    "print(\"{:.4f}\".format(d),\"% Missing Values\")"
   ]
  },
  {
   "cell_type": "markdown",
   "metadata": {},
   "source": [
    "Here since we have approximately 4% missing values we can fill the na values "
   ]
  },
  {
   "cell_type": "code",
   "execution_count": 35,
   "metadata": {},
   "outputs": [
    {
     "data": {
      "text/plain": [
       "10.3"
      ]
     },
     "execution_count": 35,
     "metadata": {},
     "output_type": "execute_result"
    }
   ],
   "source": [
    "df2[\"bmi\"].min()"
   ]
  },
  {
   "cell_type": "code",
   "execution_count": 36,
   "metadata": {},
   "outputs": [
    {
     "data": {
      "text/plain": [
       "61.900000000000006"
      ]
     },
     "execution_count": 36,
     "metadata": {},
     "output_type": "execute_result"
    }
   ],
   "source": [
    "df2[\"bmi\"].max()"
   ]
  },
  {
   "cell_type": "code",
   "execution_count": 37,
   "metadata": {},
   "outputs": [
    {
     "data": {
      "text/plain": [
       "28.873451507742477"
      ]
     },
     "execution_count": 37,
     "metadata": {},
     "output_type": "execute_result"
    }
   ],
   "source": [
    "avg_bmi=df2['bmi'].mean()\n",
    "avg_bmi"
   ]
  },
  {
   "cell_type": "code",
   "execution_count": 38,
   "metadata": {},
   "outputs": [
    {
     "data": {
      "text/plain": [
       "7.731130525311327"
      ]
     },
     "execution_count": 38,
     "metadata": {},
     "output_type": "execute_result"
    }
   ],
   "source": [
    "std_bmi=df2['bmi'].std()\n",
    "std_bmi"
   ]
  },
  {
   "cell_type": "markdown",
   "metadata": {},
   "source": [
    "The missing data is filled using random values between a range, the range being standard deviation below and above average bmi.\n",
    "We are doing this because we donot want a rigid data so this range gives us different values for missing data."
   ]
  },
  {
   "cell_type": "code",
   "execution_count": 39,
   "metadata": {},
   "outputs": [
    {
     "name": "stdout",
     "output_type": "stream",
     "text": [
      "1   26.0\n",
      "8   36.0\n",
      "13   35.0\n",
      "19   22.0\n",
      "27   26.0\n",
      "29   26.0\n",
      "43   25.0\n",
      "46   27.0\n",
      "50   22.0\n",
      "51   24.0\n",
      "54   31.0\n",
      "57   33.0\n",
      "64   26.0\n",
      "70   31.0\n",
      "78   29.0\n",
      "81   26.0\n",
      "84   29.0\n",
      "105   36.0\n",
      "112   35.0\n",
      "124   25.0\n",
      "126   27.0\n",
      "129   21.0\n",
      "133   24.0\n",
      "146   25.0\n",
      "150   34.0\n",
      "160   28.0\n",
      "161   22.0\n",
      "162   25.0\n",
      "167   29.0\n",
      "170   33.0\n",
      "171   24.0\n",
      "174   23.0\n",
      "178   28.0\n",
      "183   33.0\n",
      "189   25.0\n",
      "198   25.0\n",
      "200   23.0\n",
      "218   25.0\n",
      "227   22.0\n",
      "247   30.0\n",
      "342   28.0\n",
      "360   31.0\n",
      "432   27.0\n",
      "477   22.0\n",
      "479   37.0\n",
      "522   36.0\n",
      "668   22.0\n",
      "671   35.0\n",
      "680   30.0\n",
      "729   36.0\n",
      "742   35.0\n",
      "865   26.0\n",
      "867   30.0\n",
      "872   36.0\n",
      "879   29.0\n",
      "903   36.0\n",
      "936   24.0\n",
      "965   35.0\n",
      "1102   34.0\n",
      "1106   35.0\n",
      "1115   30.0\n",
      "1183   28.0\n",
      "1194   22.0\n",
      "1214   30.0\n",
      "1235   33.0\n",
      "1241   28.0\n",
      "1277   23.0\n",
      "1293   28.0\n",
      "1300   21.0\n",
      "1306   33.0\n",
      "1324   27.0\n",
      "1342   27.0\n",
      "1352   32.0\n",
      "1427   33.0\n",
      "1457   26.0\n",
      "1466   25.0\n",
      "1468   27.0\n",
      "1471   31.0\n",
      "1503   34.0\n",
      "1528   23.0\n",
      "1539   23.0\n",
      "1546   33.0\n",
      "1596   29.0\n",
      "1640   24.0\n",
      "1644   31.0\n",
      "1646   31.0\n",
      "1650   33.0\n",
      "1669   33.0\n",
      "1670   28.0\n",
      "1681   23.0\n",
      "1718   27.0\n",
      "1719   29.0\n",
      "1730   26.0\n",
      "1753   24.0\n",
      "1756   29.0\n",
      "1779   30.0\n",
      "1816   31.0\n",
      "1836   32.0\n",
      "1837   32.0\n",
      "1866   32.0\n",
      "1894   27.0\n",
      "1906   28.0\n",
      "1912   27.0\n",
      "1981   33.0\n",
      "1993   28.0\n",
      "2030   27.0\n",
      "2103   24.0\n",
      "2105   31.0\n",
      "2109   33.0\n",
      "2192   35.0\n",
      "2215   26.0\n",
      "2263   34.0\n",
      "2285   25.0\n",
      "2321   33.0\n",
      "2322   27.0\n",
      "2339   24.0\n",
      "2343   29.0\n",
      "2477   26.0\n",
      "2494   32.0\n",
      "2502   24.0\n",
      "2515   26.0\n",
      "2529   34.0\n",
      "2532   25.0\n",
      "2541   27.0\n",
      "2582   36.0\n",
      "2697   24.0\n",
      "2739   27.0\n",
      "2752   23.0\n",
      "2768   35.0\n",
      "2788   22.0\n",
      "2816   21.0\n",
      "2828   30.0\n",
      "2855   34.0\n",
      "2867   33.0\n",
      "2879   25.0\n",
      "2897   30.0\n",
      "2914   31.0\n",
      "2960   25.0\n",
      "2997   22.0\n",
      "3007   24.0\n",
      "3028   23.0\n",
      "3048   32.0\n",
      "3059   36.0\n",
      "3074   22.0\n",
      "3104   29.0\n",
      "3111   21.0\n",
      "3135   25.0\n",
      "3161   26.0\n",
      "3162   33.0\n",
      "3164   35.0\n",
      "3176   36.0\n",
      "3197   31.0\n",
      "3214   22.0\n",
      "3215   35.0\n",
      "3216   33.0\n",
      "3375   33.0\n",
      "3382   24.0\n",
      "3425   28.0\n",
      "3431   28.0\n",
      "3503   26.0\n",
      "3562   36.0\n",
      "3605   31.0\n",
      "3629   24.0\n",
      "3681   27.0\n",
      "3699   26.0\n",
      "3705   22.0\n",
      "3726   26.0\n",
      "3734   27.0\n",
      "3802   32.0\n",
      "3808   32.0\n",
      "3872   33.0\n",
      "3913   32.0\n",
      "3940   26.0\n",
      "3945   24.0\n",
      "3951   33.0\n",
      "4046   25.0\n",
      "4069   30.0\n",
      "4164   36.0\n",
      "4202   27.0\n",
      "4230   32.0\n",
      "4255   35.0\n",
      "4283   27.0\n",
      "4286   24.0\n",
      "4422   32.0\n",
      "4451   25.0\n",
      "4522   28.0\n",
      "4561   30.0\n",
      "4616   32.0\n",
      "4684   29.0\n",
      "4713   22.0\n",
      "4750   30.0\n",
      "4790   24.0\n",
      "4921   32.0\n",
      "4934   33.0\n",
      "4949   32.0\n",
      "4984   32.0\n",
      "5039   30.0\n",
      "5048   36.0\n",
      "5093   31.0\n",
      "5099   27.0\n",
      "5105   33.0\n"
     ]
    }
   ],
   "source": [
    "for i,data in df2.iterrows():\n",
    "    if pd.isnull(data[\"bmi\"]):\n",
    "        r=np.random.uniform(avg_bmi-std_bmi,avg_bmi+std_bmi)\n",
    "        r=np.round(r,0)\n",
    "        df2.at[i,\"bmi\"]=r\n",
    "        print(i,\" \",df2.at[i,\"bmi\"])"
   ]
  },
  {
   "cell_type": "markdown",
   "metadata": {},
   "source": [
    "Since BMI Values are in the range of 10.3-61.9 we group them for further analysis."
   ]
  },
  {
   "cell_type": "code",
   "execution_count": 57,
   "metadata": {},
   "outputs": [
    {
     "data": {
      "text/plain": [
       "0        (27.76, 45.22]\n",
       "1        (27.76, 45.22]\n",
       "2        (27.76, 45.22]\n",
       "3        (27.76, 45.22]\n",
       "4       (10.213, 27.76]\n",
       "             ...       \n",
       "5105     (27.76, 45.22]\n",
       "5106     (27.76, 45.22]\n",
       "5107     (27.76, 45.22]\n",
       "5108    (10.213, 27.76]\n",
       "5109    (10.213, 27.76]\n",
       "Name: Categorical_bmi, Length: 5109, dtype: category\n",
       "Categories (5, interval[float64]): [(10.213, 27.76] < (27.76, 45.22] < (45.22, 62.68] < (62.68, 80.14] < (80.14, 97.6]]"
      ]
     },
     "execution_count": 57,
     "metadata": {},
     "output_type": "execute_result"
    }
   ],
   "source": [
    "df2[\"Categorical_bmi\"]=pd.cut(df2[\"bmi\"],5) #\n",
    "df2[\"Categorical_bmi\"]"
   ]
  },
  {
   "cell_type": "code",
   "execution_count": 58,
   "metadata": {},
   "outputs": [
    {
     "data": {
      "text/html": [
       "<div>\n",
       "<style scoped>\n",
       "    .dataframe tbody tr th:only-of-type {\n",
       "        vertical-align: middle;\n",
       "    }\n",
       "\n",
       "    .dataframe tbody tr th {\n",
       "        vertical-align: top;\n",
       "    }\n",
       "\n",
       "    .dataframe thead th {\n",
       "        text-align: right;\n",
       "    }\n",
       "</style>\n",
       "<table border=\"1\" class=\"dataframe\">\n",
       "  <thead>\n",
       "    <tr style=\"text-align: right;\">\n",
       "      <th></th>\n",
       "      <th>stroke</th>\n",
       "    </tr>\n",
       "    <tr>\n",
       "      <th>Categorical_bmi</th>\n",
       "      <th></th>\n",
       "    </tr>\n",
       "  </thead>\n",
       "  <tbody>\n",
       "    <tr>\n",
       "      <th>(27.76, 45.22]</th>\n",
       "      <td>0.060606</td>\n",
       "    </tr>\n",
       "    <tr>\n",
       "      <th>(45.22, 62.68]</th>\n",
       "      <td>0.049296</td>\n",
       "    </tr>\n",
       "    <tr>\n",
       "      <th>(10.213, 27.76]</th>\n",
       "      <td>0.036720</td>\n",
       "    </tr>\n",
       "    <tr>\n",
       "      <th>(62.68, 80.14]</th>\n",
       "      <td>0.000000</td>\n",
       "    </tr>\n",
       "    <tr>\n",
       "      <th>(80.14, 97.6]</th>\n",
       "      <td>0.000000</td>\n",
       "    </tr>\n",
       "  </tbody>\n",
       "</table>\n",
       "</div>"
      ],
      "text/plain": [
       "                   stroke\n",
       "Categorical_bmi          \n",
       "(27.76, 45.22]   0.060606\n",
       "(45.22, 62.68]   0.049296\n",
       "(10.213, 27.76]  0.036720\n",
       "(62.68, 80.14]   0.000000\n",
       "(80.14, 97.6]    0.000000"
      ]
     },
     "execution_count": 58,
     "metadata": {},
     "output_type": "execute_result"
    }
   ],
   "source": [
    "bmi=df2[[\"Categorical_bmi\",\"stroke\"]].groupby([\"Categorical_bmi\"]).mean().sort_values(by=\"stroke\", ascending=False)\n",
    "bmi"
   ]
  },
  {
   "cell_type": "code",
   "execution_count": 59,
   "metadata": {},
   "outputs": [
    {
     "data": {
      "text/plain": [
       "<AxesSubplot:title={'center':'BMI vs Stroke'}, xlabel='Categories of BMI'>"
      ]
     },
     "execution_count": 59,
     "metadata": {},
     "output_type": "execute_result"
    },
    {
     "data": {
      "image/png": "[encoded data removed]",
      "text/plain": [
       "<Figure size 432x288 with 1 Axes>"
      ]
     },
     "metadata": {
      "needs_background": "light"
     },
     "output_type": "display_data"
    }
   ],
   "source": [
    "bmi.plot(kind=\"bar\", title=\"BMI vs Stroke\", xlabel=\"Categories of BMI\")"
   ]
  },
  {
   "cell_type": "markdown",
   "metadata": {},
   "source": [
    "#### Conclusion:\n",
    "Patients with Lower BMI Values have higher chances of having Stroke."
   ]
  },
  {
   "cell_type": "markdown",
   "metadata": {},
   "source": [
    "#### Checking for Outliers"
   ]
  },
  {
   "cell_type": "code",
   "execution_count": 19,
   "metadata": {},
   "outputs": [
    {
     "name": "stderr",
     "output_type": "stream",
     "text": [
      "C:\\Users\\Anuya\\anaconda3\\lib\\site-packages\\seaborn\\_decorators.py:36: FutureWarning: Pass the following variable as a keyword arg: x. From version 0.12, the only valid positional argument will be `data`, and passing other arguments without an explicit keyword will result in an error or misinterpretation.\n",
      "  warnings.warn(\n"
     ]
    },
    {
     "data": {
      "text/plain": [
       "<AxesSubplot:xlabel='bmi'>"
      ]
     },
     "execution_count": 19,
     "metadata": {},
     "output_type": "execute_result"
    },
    {
     "data": {
      "image/png": "[encoded data removed]",
      "text/plain": [
       "<Figure size 432x288 with 1 Axes>"
      ]
     },
     "metadata": {
      "needs_background": "light"
     },
     "output_type": "display_data"
    }
   ],
   "source": [
    "sns.boxplot(df2[\"bmi\"])"
   ]
  },
  {
   "cell_type": "code",
   "execution_count": 20,
   "metadata": {},
   "outputs": [
    {
     "name": "stdout",
     "output_type": "stream",
     "text": [
      "Number of Outliers:  8\n"
     ]
    }
   ],
   "source": [
    "Q1=df2.bmi.quantile(0.25)\n",
    "Q3=df2.bmi.quantile(0.75)\n",
    "IQR=Q3-Q1\n",
    "u=Q3+(3*IQR)\n",
    "L=Q1-(3*IQR)\n",
    "df3=df2[(df2[\"bmi\"]<L)|(df2[\"bmi\"]>u)]\n",
    "print(\"Number of Outliers: \", df3.shape[0])"
   ]
  },
  {
   "cell_type": "markdown",
   "metadata": {},
   "source": [
    "Since the data has 8 Outliers we go ahead and do the processing on the outliers \n",
    "\n",
    "Here we are going to convert the Outlier values: Values below the Lower level are given the value of Lower level while that above Higher Level are given the value of Higher level."
   ]
  },
  {
   "cell_type": "code",
   "execution_count": 24,
   "metadata": {},
   "outputs": [],
   "source": [
    "for i,data in df2.iterrows():\n",
    "    if data[\"bmi\"]<L:\n",
    "        df2.at[i,\"bmi\"]=L\n",
    "    elif data[\"bmi\"]>u:\n",
    "        df2.at[i,\"bmi\"]=u"
   ]
  },
  {
   "cell_type": "markdown",
   "metadata": {},
   "source": [
    "Since the dataset contains a few Categorical Columns we have to do Encoding for further analysis and Prediction"
   ]
  },
  {
   "cell_type": "markdown",
   "metadata": {},
   "source": [
    "### Encoding"
   ]
  },
  {
   "cell_type": "code",
   "execution_count": 60,
   "metadata": {},
   "outputs": [
    {
     "data": {
      "text/html": [
       "<div>\n",
       "<style scoped>\n",
       "    .dataframe tbody tr th:only-of-type {\n",
       "        vertical-align: middle;\n",
       "    }\n",
       "\n",
       "    .dataframe tbody tr th {\n",
       "        vertical-align: top;\n",
       "    }\n",
       "\n",
       "    .dataframe thead th {\n",
       "        text-align: right;\n",
       "    }\n",
       "</style>\n",
       "<table border=\"1\" class=\"dataframe\">\n",
       "  <thead>\n",
       "    <tr style=\"text-align: right;\">\n",
       "      <th></th>\n",
       "      <th>id</th>\n",
       "      <th>gender</th>\n",
       "      <th>age</th>\n",
       "      <th>hypertension</th>\n",
       "      <th>heart_disease</th>\n",
       "      <th>ever_married</th>\n",
       "      <th>work_type</th>\n",
       "      <th>Residence_type</th>\n",
       "      <th>avg_glucose_level</th>\n",
       "      <th>bmi</th>\n",
       "      <th>smoking_status</th>\n",
       "      <th>stroke</th>\n",
       "      <th>Categorical_age</th>\n",
       "      <th>Glucose</th>\n",
       "      <th>Categorical_bmi</th>\n",
       "    </tr>\n",
       "  </thead>\n",
       "  <tbody>\n",
       "    <tr>\n",
       "      <th>0</th>\n",
       "      <td>9046</td>\n",
       "      <td>Male</td>\n",
       "      <td>67.0</td>\n",
       "      <td>0</td>\n",
       "      <td>1</td>\n",
       "      <td>Yes</td>\n",
       "      <td>Private</td>\n",
       "      <td>Urban</td>\n",
       "      <td>228.69</td>\n",
       "      <td>36.6</td>\n",
       "      <td>formerly smoked</td>\n",
       "      <td>1</td>\n",
       "      <td>(65.616, 82.0]</td>\n",
       "      <td>(199.533, 271.74]</td>\n",
       "      <td>(27.76, 45.22]</td>\n",
       "    </tr>\n",
       "    <tr>\n",
       "      <th>1</th>\n",
       "      <td>51676</td>\n",
       "      <td>Female</td>\n",
       "      <td>61.0</td>\n",
       "      <td>0</td>\n",
       "      <td>0</td>\n",
       "      <td>Yes</td>\n",
       "      <td>Self-employed</td>\n",
       "      <td>Rural</td>\n",
       "      <td>202.21</td>\n",
       "      <td>29.0</td>\n",
       "      <td>never smoked</td>\n",
       "      <td>1</td>\n",
       "      <td>(49.232, 65.616]</td>\n",
       "      <td>(199.533, 271.74]</td>\n",
       "      <td>(27.76, 45.22]</td>\n",
       "    </tr>\n",
       "    <tr>\n",
       "      <th>2</th>\n",
       "      <td>31112</td>\n",
       "      <td>Male</td>\n",
       "      <td>80.0</td>\n",
       "      <td>0</td>\n",
       "      <td>1</td>\n",
       "      <td>Yes</td>\n",
       "      <td>Private</td>\n",
       "      <td>Rural</td>\n",
       "      <td>105.92</td>\n",
       "      <td>32.5</td>\n",
       "      <td>never smoked</td>\n",
       "      <td>1</td>\n",
       "      <td>(65.616, 82.0]</td>\n",
       "      <td>(54.903, 127.327]</td>\n",
       "      <td>(27.76, 45.22]</td>\n",
       "    </tr>\n",
       "    <tr>\n",
       "      <th>3</th>\n",
       "      <td>60182</td>\n",
       "      <td>Female</td>\n",
       "      <td>49.0</td>\n",
       "      <td>0</td>\n",
       "      <td>0</td>\n",
       "      <td>Yes</td>\n",
       "      <td>Private</td>\n",
       "      <td>Urban</td>\n",
       "      <td>171.23</td>\n",
       "      <td>34.4</td>\n",
       "      <td>smokes</td>\n",
       "      <td>1</td>\n",
       "      <td>(32.848, 49.232]</td>\n",
       "      <td>(127.327, 199.533]</td>\n",
       "      <td>(27.76, 45.22]</td>\n",
       "    </tr>\n",
       "    <tr>\n",
       "      <th>4</th>\n",
       "      <td>1665</td>\n",
       "      <td>Female</td>\n",
       "      <td>79.0</td>\n",
       "      <td>1</td>\n",
       "      <td>0</td>\n",
       "      <td>Yes</td>\n",
       "      <td>Self-employed</td>\n",
       "      <td>Rural</td>\n",
       "      <td>174.12</td>\n",
       "      <td>24.0</td>\n",
       "      <td>never smoked</td>\n",
       "      <td>1</td>\n",
       "      <td>(65.616, 82.0]</td>\n",
       "      <td>(127.327, 199.533]</td>\n",
       "      <td>(10.213, 27.76]</td>\n",
       "    </tr>\n",
       "  </tbody>\n",
       "</table>\n",
       "</div>"
      ],
      "text/plain": [
       "      id  gender   age  hypertension  heart_disease ever_married  \\\n",
       "0   9046    Male  67.0             0              1          Yes   \n",
       "1  51676  Female  61.0             0              0          Yes   \n",
       "2  31112    Male  80.0             0              1          Yes   \n",
       "3  60182  Female  49.0             0              0          Yes   \n",
       "4   1665  Female  79.0             1              0          Yes   \n",
       "\n",
       "       work_type Residence_type  avg_glucose_level   bmi   smoking_status  \\\n",
       "0        Private          Urban             228.69  36.6  formerly smoked   \n",
       "1  Self-employed          Rural             202.21  29.0     never smoked   \n",
       "2        Private          Rural             105.92  32.5     never smoked   \n",
       "3        Private          Urban             171.23  34.4           smokes   \n",
       "4  Self-employed          Rural             174.12  24.0     never smoked   \n",
       "\n",
       "   stroke   Categorical_age             Glucose  Categorical_bmi  \n",
       "0       1    (65.616, 82.0]   (199.533, 271.74]   (27.76, 45.22]  \n",
       "1       1  (49.232, 65.616]   (199.533, 271.74]   (27.76, 45.22]  \n",
       "2       1    (65.616, 82.0]   (54.903, 127.327]   (27.76, 45.22]  \n",
       "3       1  (32.848, 49.232]  (127.327, 199.533]   (27.76, 45.22]  \n",
       "4       1    (65.616, 82.0]  (127.327, 199.533]  (10.213, 27.76]  "
      ]
     },
     "execution_count": 60,
     "metadata": {},
     "output_type": "execute_result"
    }
   ],
   "source": [
    "df2.head()"
   ]
  },
  {
   "cell_type": "code",
   "execution_count": 25,
   "metadata": {},
   "outputs": [],
   "source": [
    "df2[\"gender\"]=df2[\"gender\"].astype(\"category\")\n",
    "df2[\"gender_encode\"]=df2[\"gender\"].cat.codes\n",
    "df2[\"ever_married\"]=df2[\"ever_married\"].astype(\"category\")\n",
    "df2[\"marrital_status_encode\"]=df2['ever_married'].cat.codes\n",
    "df2['work_type']=df2['work_type'].astype(\"category\")\n",
    "df2[\"Work_type_encode\"]=df2['work_type'].cat.codes\n",
    "df2['Residence_type']=df2['Residence_type'].astype(\"category\")\n",
    "df2[\"Residence_encode\"]=df2['Residence_type'].cat.codes\n",
    "df2['smoking_status']=df2['smoking_status'].astype(\"category\")\n",
    "df2[\"smoking_status_encode\"]=df2['smoking_status'].cat.codes"
   ]
  },
  {
   "cell_type": "code",
   "execution_count": 40,
   "metadata": {},
   "outputs": [
    {
     "data": {
      "text/plain": [
       "Index(['id', 'gender', 'age', 'hypertension', 'heart_disease', 'ever_married',\n",
       "       'work_type', 'Residence_type', 'avg_glucose_level', 'bmi',\n",
       "       'smoking_status', 'stroke', 'Categorical_age', 'gender_encode',\n",
       "       'marrital_status_encode', 'Work_type_encode', 'Residence_encode',\n",
       "       'smoking_status_encode'],\n",
       "      dtype='object')"
      ]
     },
     "execution_count": 40,
     "metadata": {},
     "output_type": "execute_result"
    }
   ],
   "source": [
    "df2.columns"
   ]
  },
  {
   "cell_type": "code",
   "execution_count": 41,
   "metadata": {},
   "outputs": [],
   "source": [
    "drop_elements=['id','gender','ever_married','work_type','Residence_type','smoking_status', 'Categorical_age', 'Glucose',\n",
    "       'Categorical_bmi']\n",
    "df_cleaned=df2.drop(drop_elements, axis=1)"
   ]
  },
  {
   "cell_type": "markdown",
   "metadata": {},
   "source": [
    "Here I have dropped the Categorical Columns and not the actual ones for Age, Average glucose level and bmi as we will be standardizing them later while making the model"
   ]
  },
  {
   "cell_type": "code",
   "execution_count": 42,
   "metadata": {},
   "outputs": [
    {
     "data": {
      "text/html": [
       "<div>\n",
       "<style scoped>\n",
       "    .dataframe tbody tr th:only-of-type {\n",
       "        vertical-align: middle;\n",
       "    }\n",
       "\n",
       "    .dataframe tbody tr th {\n",
       "        vertical-align: top;\n",
       "    }\n",
       "\n",
       "    .dataframe thead th {\n",
       "        text-align: right;\n",
       "    }\n",
       "</style>\n",
       "<table border=\"1\" class=\"dataframe\">\n",
       "  <thead>\n",
       "    <tr style=\"text-align: right;\">\n",
       "      <th></th>\n",
       "      <th>age</th>\n",
       "      <th>hypertension</th>\n",
       "      <th>heart_disease</th>\n",
       "      <th>avg_glucose_level</th>\n",
       "      <th>bmi</th>\n",
       "      <th>stroke</th>\n",
       "      <th>gender_encode</th>\n",
       "      <th>marrital_status_encode</th>\n",
       "      <th>Work_type_encode</th>\n",
       "      <th>Residence_encode</th>\n",
       "      <th>smoking_status_encode</th>\n",
       "    </tr>\n",
       "  </thead>\n",
       "  <tbody>\n",
       "    <tr>\n",
       "      <th>0</th>\n",
       "      <td>61.9</td>\n",
       "      <td>0</td>\n",
       "      <td>1</td>\n",
       "      <td>228.69</td>\n",
       "      <td>36.6</td>\n",
       "      <td>1</td>\n",
       "      <td>1</td>\n",
       "      <td>1</td>\n",
       "      <td>2</td>\n",
       "      <td>1</td>\n",
       "      <td>1</td>\n",
       "    </tr>\n",
       "    <tr>\n",
       "      <th>1</th>\n",
       "      <td>61.0</td>\n",
       "      <td>0</td>\n",
       "      <td>0</td>\n",
       "      <td>202.21</td>\n",
       "      <td>26.0</td>\n",
       "      <td>1</td>\n",
       "      <td>0</td>\n",
       "      <td>1</td>\n",
       "      <td>3</td>\n",
       "      <td>0</td>\n",
       "      <td>2</td>\n",
       "    </tr>\n",
       "    <tr>\n",
       "      <th>2</th>\n",
       "      <td>61.9</td>\n",
       "      <td>0</td>\n",
       "      <td>1</td>\n",
       "      <td>105.92</td>\n",
       "      <td>32.5</td>\n",
       "      <td>1</td>\n",
       "      <td>1</td>\n",
       "      <td>1</td>\n",
       "      <td>2</td>\n",
       "      <td>0</td>\n",
       "      <td>2</td>\n",
       "    </tr>\n",
       "    <tr>\n",
       "      <th>3</th>\n",
       "      <td>49.0</td>\n",
       "      <td>0</td>\n",
       "      <td>0</td>\n",
       "      <td>171.23</td>\n",
       "      <td>34.4</td>\n",
       "      <td>1</td>\n",
       "      <td>0</td>\n",
       "      <td>1</td>\n",
       "      <td>2</td>\n",
       "      <td>1</td>\n",
       "      <td>3</td>\n",
       "    </tr>\n",
       "    <tr>\n",
       "      <th>4</th>\n",
       "      <td>61.9</td>\n",
       "      <td>1</td>\n",
       "      <td>0</td>\n",
       "      <td>174.12</td>\n",
       "      <td>24.0</td>\n",
       "      <td>1</td>\n",
       "      <td>0</td>\n",
       "      <td>1</td>\n",
       "      <td>3</td>\n",
       "      <td>0</td>\n",
       "      <td>2</td>\n",
       "    </tr>\n",
       "  </tbody>\n",
       "</table>\n",
       "</div>"
      ],
      "text/plain": [
       "    age  hypertension  heart_disease  avg_glucose_level   bmi  stroke  \\\n",
       "0  61.9             0              1             228.69  36.6       1   \n",
       "1  61.0             0              0             202.21  26.0       1   \n",
       "2  61.9             0              1             105.92  32.5       1   \n",
       "3  49.0             0              0             171.23  34.4       1   \n",
       "4  61.9             1              0             174.12  24.0       1   \n",
       "\n",
       "   gender_encode  marrital_status_encode  Work_type_encode  Residence_encode  \\\n",
       "0              1                       1                 2                 1   \n",
       "1              0                       1                 3                 0   \n",
       "2              1                       1                 2                 0   \n",
       "3              0                       1                 2                 1   \n",
       "4              0                       1                 3                 0   \n",
       "\n",
       "   smoking_status_encode  \n",
       "0                      1  \n",
       "1                      2  \n",
       "2                      2  \n",
       "3                      3  \n",
       "4                      2  "
      ]
     },
     "execution_count": 42,
     "metadata": {},
     "output_type": "execute_result"
    }
   ],
   "source": [
    "df_cleaned.head()"
   ]
  },
  {
   "cell_type": "markdown",
   "metadata": {},
   "source": [
    "We are going to save the data into a new CSV so that we donot need to run this whole thing again before doing the further analysis"
   ]
  },
  {
   "cell_type": "code",
   "execution_count": 43,
   "metadata": {},
   "outputs": [],
   "source": [
    "df_cleaned.to_csv(\"E:\\\\Anuya MSC\\\\Sem 2\\\\EL + ML Project\\\\stroke_data_Cleaned3.csv\") #Storing to new csv file"
   ]
  },
  {
   "cell_type": "code",
   "execution_count": 2,
   "metadata": {},
   "outputs": [],
   "source": [
    "df3=pd.read_csv(\"E:\\\\Anuya MSC\\\\Sem 2\\\\EL + ML Project\\\\stroke_data_Cleaned3.csv\",header=0)"
   ]
  },
  {
   "cell_type": "code",
   "execution_count": 4,
   "metadata": {},
   "outputs": [
    {
     "data": {
      "text/html": [
       "<div>\n",
       "<style scoped>\n",
       "    .dataframe tbody tr th:only-of-type {\n",
       "        vertical-align: middle;\n",
       "    }\n",
       "\n",
       "    .dataframe tbody tr th {\n",
       "        vertical-align: top;\n",
       "    }\n",
       "\n",
       "    .dataframe thead th {\n",
       "        text-align: right;\n",
       "    }\n",
       "</style>\n",
       "<table border=\"1\" class=\"dataframe\">\n",
       "  <thead>\n",
       "    <tr style=\"text-align: right;\">\n",
       "      <th></th>\n",
       "      <th>age</th>\n",
       "      <th>hypertension</th>\n",
       "      <th>heart_disease</th>\n",
       "      <th>avg_glucose_level</th>\n",
       "      <th>bmi</th>\n",
       "      <th>stroke</th>\n",
       "      <th>gender_encode</th>\n",
       "      <th>marrital_status_encode</th>\n",
       "      <th>Work_type_encode</th>\n",
       "      <th>Residence_encode</th>\n",
       "      <th>smoking_status_encode</th>\n",
       "    </tr>\n",
       "  </thead>\n",
       "  <tbody>\n",
       "    <tr>\n",
       "      <th>0</th>\n",
       "      <td>61.9</td>\n",
       "      <td>0</td>\n",
       "      <td>1</td>\n",
       "      <td>228.69</td>\n",
       "      <td>36.6</td>\n",
       "      <td>1</td>\n",
       "      <td>1</td>\n",
       "      <td>1</td>\n",
       "      <td>2</td>\n",
       "      <td>1</td>\n",
       "      <td>1</td>\n",
       "    </tr>\n",
       "    <tr>\n",
       "      <th>1</th>\n",
       "      <td>61.0</td>\n",
       "      <td>0</td>\n",
       "      <td>0</td>\n",
       "      <td>202.21</td>\n",
       "      <td>26.0</td>\n",
       "      <td>1</td>\n",
       "      <td>0</td>\n",
       "      <td>1</td>\n",
       "      <td>3</td>\n",
       "      <td>0</td>\n",
       "      <td>2</td>\n",
       "    </tr>\n",
       "    <tr>\n",
       "      <th>2</th>\n",
       "      <td>61.9</td>\n",
       "      <td>0</td>\n",
       "      <td>1</td>\n",
       "      <td>105.92</td>\n",
       "      <td>32.5</td>\n",
       "      <td>1</td>\n",
       "      <td>1</td>\n",
       "      <td>1</td>\n",
       "      <td>2</td>\n",
       "      <td>0</td>\n",
       "      <td>2</td>\n",
       "    </tr>\n",
       "    <tr>\n",
       "      <th>3</th>\n",
       "      <td>49.0</td>\n",
       "      <td>0</td>\n",
       "      <td>0</td>\n",
       "      <td>171.23</td>\n",
       "      <td>34.4</td>\n",
       "      <td>1</td>\n",
       "      <td>0</td>\n",
       "      <td>1</td>\n",
       "      <td>2</td>\n",
       "      <td>1</td>\n",
       "      <td>3</td>\n",
       "    </tr>\n",
       "    <tr>\n",
       "      <th>4</th>\n",
       "      <td>61.9</td>\n",
       "      <td>1</td>\n",
       "      <td>0</td>\n",
       "      <td>174.12</td>\n",
       "      <td>24.0</td>\n",
       "      <td>1</td>\n",
       "      <td>0</td>\n",
       "      <td>1</td>\n",
       "      <td>3</td>\n",
       "      <td>0</td>\n",
       "      <td>2</td>\n",
       "    </tr>\n",
       "  </tbody>\n",
       "</table>\n",
       "</div>"
      ],
      "text/plain": [
       "    age  hypertension  heart_disease  avg_glucose_level   bmi  stroke  \\\n",
       "0  61.9             0              1             228.69  36.6       1   \n",
       "1  61.0             0              0             202.21  26.0       1   \n",
       "2  61.9             0              1             105.92  32.5       1   \n",
       "3  49.0             0              0             171.23  34.4       1   \n",
       "4  61.9             1              0             174.12  24.0       1   \n",
       "\n",
       "   gender_encode  marrital_status_encode  Work_type_encode  Residence_encode  \\\n",
       "0              1                       1                 2                 1   \n",
       "1              0                       1                 3                 0   \n",
       "2              1                       1                 2                 0   \n",
       "3              0                       1                 2                 1   \n",
       "4              0                       1                 3                 0   \n",
       "\n",
       "   smoking_status_encode  \n",
       "0                      1  \n",
       "1                      2  \n",
       "2                      2  \n",
       "3                      3  \n",
       "4                      2  "
      ]
     },
     "execution_count": 4,
     "metadata": {},
     "output_type": "execute_result"
    }
   ],
   "source": [
    "df3.head()"
   ]
  },
  {
   "cell_type": "code",
   "execution_count": 5,
   "metadata": {},
   "outputs": [
    {
     "data": {
      "text/plain": [
       "0"
      ]
     },
     "execution_count": 5,
     "metadata": {},
     "output_type": "execute_result"
    }
   ],
   "source": [
    "sum(n<0 for n in df3.values.flatten()) "
   ]
  },
  {
   "cell_type": "markdown",
   "metadata": {},
   "source": [
    "Here we check if we have negative values in the data since we dont have it we can continue without making any changes"
   ]
  },
  {
   "cell_type": "code",
   "execution_count": 7,
   "metadata": {},
   "outputs": [
    {
     "data": {
      "text/html": [
       "<div>\n",
       "<style scoped>\n",
       "    .dataframe tbody tr th:only-of-type {\n",
       "        vertical-align: middle;\n",
       "    }\n",
       "\n",
       "    .dataframe tbody tr th {\n",
       "        vertical-align: top;\n",
       "    }\n",
       "\n",
       "    .dataframe thead th {\n",
       "        text-align: right;\n",
       "    }\n",
       "</style>\n",
       "<table border=\"1\" class=\"dataframe\">\n",
       "  <thead>\n",
       "    <tr style=\"text-align: right;\">\n",
       "      <th></th>\n",
       "      <th>age</th>\n",
       "      <th>hypertension</th>\n",
       "      <th>heart_disease</th>\n",
       "      <th>avg_glucose_level</th>\n",
       "      <th>bmi</th>\n",
       "      <th>stroke</th>\n",
       "      <th>gender_encode</th>\n",
       "      <th>marrital_status_encode</th>\n",
       "      <th>Work_type_encode</th>\n",
       "      <th>Residence_encode</th>\n",
       "      <th>smoking_status_encode</th>\n",
       "    </tr>\n",
       "  </thead>\n",
       "  <tbody>\n",
       "    <tr>\n",
       "      <th>age</th>\n",
       "      <td>1.000000</td>\n",
       "      <td>0.261530</td>\n",
       "      <td>0.229447</td>\n",
       "      <td>0.229341</td>\n",
       "      <td>0.381081</td>\n",
       "      <td>0.210743</td>\n",
       "      <td>-0.028572</td>\n",
       "      <td>0.723497</td>\n",
       "      <td>-0.420549</td>\n",
       "      <td>0.009939</td>\n",
       "      <td>0.300798</td>\n",
       "    </tr>\n",
       "    <tr>\n",
       "      <th>hypertension</th>\n",
       "      <td>0.261530</td>\n",
       "      <td>1.000000</td>\n",
       "      <td>0.108292</td>\n",
       "      <td>0.174540</td>\n",
       "      <td>0.158880</td>\n",
       "      <td>0.127891</td>\n",
       "      <td>0.021223</td>\n",
       "      <td>0.164187</td>\n",
       "      <td>-0.051772</td>\n",
       "      <td>-0.007980</td>\n",
       "      <td>0.111018</td>\n",
       "    </tr>\n",
       "    <tr>\n",
       "      <th>heart_disease</th>\n",
       "      <td>0.229447</td>\n",
       "      <td>0.108292</td>\n",
       "      <td>1.000000</td>\n",
       "      <td>0.161907</td>\n",
       "      <td>0.035495</td>\n",
       "      <td>0.134905</td>\n",
       "      <td>0.085685</td>\n",
       "      <td>0.114601</td>\n",
       "      <td>-0.028031</td>\n",
       "      <td>0.003045</td>\n",
       "      <td>0.048445</td>\n",
       "    </tr>\n",
       "    <tr>\n",
       "      <th>avg_glucose_level</th>\n",
       "      <td>0.229341</td>\n",
       "      <td>0.174540</td>\n",
       "      <td>0.161907</td>\n",
       "      <td>1.000000</td>\n",
       "      <td>0.173005</td>\n",
       "      <td>0.131991</td>\n",
       "      <td>0.054722</td>\n",
       "      <td>0.155329</td>\n",
       "      <td>-0.050492</td>\n",
       "      <td>-0.004783</td>\n",
       "      <td>0.063498</td>\n",
       "    </tr>\n",
       "    <tr>\n",
       "      <th>bmi</th>\n",
       "      <td>0.381081</td>\n",
       "      <td>0.158880</td>\n",
       "      <td>0.035495</td>\n",
       "      <td>0.173005</td>\n",
       "      <td>1.000000</td>\n",
       "      <td>0.032975</td>\n",
       "      <td>-0.029684</td>\n",
       "      <td>0.339458</td>\n",
       "      <td>-0.302530</td>\n",
       "      <td>0.000127</td>\n",
       "      <td>0.225027</td>\n",
       "    </tr>\n",
       "    <tr>\n",
       "      <th>stroke</th>\n",
       "      <td>0.210743</td>\n",
       "      <td>0.127891</td>\n",
       "      <td>0.134905</td>\n",
       "      <td>0.131991</td>\n",
       "      <td>0.032975</td>\n",
       "      <td>1.000000</td>\n",
       "      <td>0.009081</td>\n",
       "      <td>0.108299</td>\n",
       "      <td>-0.032323</td>\n",
       "      <td>0.015415</td>\n",
       "      <td>0.028108</td>\n",
       "    </tr>\n",
       "    <tr>\n",
       "      <th>gender_encode</th>\n",
       "      <td>-0.028572</td>\n",
       "      <td>0.021223</td>\n",
       "      <td>0.085685</td>\n",
       "      <td>0.054722</td>\n",
       "      <td>-0.029684</td>\n",
       "      <td>0.009081</td>\n",
       "      <td>1.000000</td>\n",
       "      <td>-0.030171</td>\n",
       "      <td>0.056576</td>\n",
       "      <td>-0.006105</td>\n",
       "      <td>-0.062423</td>\n",
       "    </tr>\n",
       "    <tr>\n",
       "      <th>marrital_status_encode</th>\n",
       "      <td>0.723497</td>\n",
       "      <td>0.164187</td>\n",
       "      <td>0.114601</td>\n",
       "      <td>0.155329</td>\n",
       "      <td>0.339458</td>\n",
       "      <td>0.108299</td>\n",
       "      <td>-0.030171</td>\n",
       "      <td>1.000000</td>\n",
       "      <td>-0.352831</td>\n",
       "      <td>0.005988</td>\n",
       "      <td>0.259604</td>\n",
       "    </tr>\n",
       "    <tr>\n",
       "      <th>Work_type_encode</th>\n",
       "      <td>-0.420549</td>\n",
       "      <td>-0.051772</td>\n",
       "      <td>-0.028031</td>\n",
       "      <td>-0.050492</td>\n",
       "      <td>-0.302530</td>\n",
       "      <td>-0.032323</td>\n",
       "      <td>0.056576</td>\n",
       "      <td>-0.352831</td>\n",
       "      <td>1.000000</td>\n",
       "      <td>-0.007348</td>\n",
       "      <td>-0.305942</td>\n",
       "    </tr>\n",
       "    <tr>\n",
       "      <th>Residence_encode</th>\n",
       "      <td>0.009939</td>\n",
       "      <td>-0.007980</td>\n",
       "      <td>0.003045</td>\n",
       "      <td>-0.004783</td>\n",
       "      <td>0.000127</td>\n",
       "      <td>0.015415</td>\n",
       "      <td>-0.006105</td>\n",
       "      <td>0.005988</td>\n",
       "      <td>-0.007348</td>\n",
       "      <td>1.000000</td>\n",
       "      <td>0.008168</td>\n",
       "    </tr>\n",
       "    <tr>\n",
       "      <th>smoking_status_encode</th>\n",
       "      <td>0.300798</td>\n",
       "      <td>0.111018</td>\n",
       "      <td>0.048445</td>\n",
       "      <td>0.063498</td>\n",
       "      <td>0.225027</td>\n",
       "      <td>0.028108</td>\n",
       "      <td>-0.062423</td>\n",
       "      <td>0.259604</td>\n",
       "      <td>-0.305942</td>\n",
       "      <td>0.008168</td>\n",
       "      <td>1.000000</td>\n",
       "    </tr>\n",
       "  </tbody>\n",
       "</table>\n",
       "</div>"
      ],
      "text/plain": [
       "                             age  hypertension  heart_disease  \\\n",
       "age                     1.000000      0.261530       0.229447   \n",
       "hypertension            0.261530      1.000000       0.108292   \n",
       "heart_disease           0.229447      0.108292       1.000000   \n",
       "avg_glucose_level       0.229341      0.174540       0.161907   \n",
       "bmi                     0.381081      0.158880       0.035495   \n",
       "stroke                  0.210743      0.127891       0.134905   \n",
       "gender_encode          -0.028572      0.021223       0.085685   \n",
       "marrital_status_encode  0.723497      0.164187       0.114601   \n",
       "Work_type_encode       -0.420549     -0.051772      -0.028031   \n",
       "Residence_encode        0.009939     -0.007980       0.003045   \n",
       "smoking_status_encode   0.300798      0.111018       0.048445   \n",
       "\n",
       "                        avg_glucose_level       bmi    stroke  gender_encode  \\\n",
       "age                              0.229341  0.381081  0.210743      -0.028572   \n",
       "hypertension                     0.174540  0.158880  0.127891       0.021223   \n",
       "heart_disease                    0.161907  0.035495  0.134905       0.085685   \n",
       "avg_glucose_level                1.000000  0.173005  0.131991       0.054722   \n",
       "bmi                              0.173005  1.000000  0.032975      -0.029684   \n",
       "stroke                           0.131991  0.032975  1.000000       0.009081   \n",
       "gender_encode                    0.054722 -0.029684  0.009081       1.000000   \n",
       "marrital_status_encode           0.155329  0.339458  0.108299      -0.030171   \n",
       "Work_type_encode                -0.050492 -0.302530 -0.032323       0.056576   \n",
       "Residence_encode                -0.004783  0.000127  0.015415      -0.006105   \n",
       "smoking_status_encode            0.063498  0.225027  0.028108      -0.062423   \n",
       "\n",
       "                        marrital_status_encode  Work_type_encode  \\\n",
       "age                                   0.723497         -0.420549   \n",
       "hypertension                          0.164187         -0.051772   \n",
       "heart_disease                         0.114601         -0.028031   \n",
       "avg_glucose_level                     0.155329         -0.050492   \n",
       "bmi                                   0.339458         -0.302530   \n",
       "stroke                                0.108299         -0.032323   \n",
       "gender_encode                        -0.030171          0.056576   \n",
       "marrital_status_encode                1.000000         -0.352831   \n",
       "Work_type_encode                     -0.352831          1.000000   \n",
       "Residence_encode                      0.005988         -0.007348   \n",
       "smoking_status_encode                 0.259604         -0.305942   \n",
       "\n",
       "                        Residence_encode  smoking_status_encode  \n",
       "age                             0.009939               0.300798  \n",
       "hypertension                   -0.007980               0.111018  \n",
       "heart_disease                   0.003045               0.048445  \n",
       "avg_glucose_level              -0.004783               0.063498  \n",
       "bmi                             0.000127               0.225027  \n",
       "stroke                          0.015415               0.028108  \n",
       "gender_encode                  -0.006105              -0.062423  \n",
       "marrital_status_encode          0.005988               0.259604  \n",
       "Work_type_encode               -0.007348              -0.305942  \n",
       "Residence_encode                1.000000               0.008168  \n",
       "smoking_status_encode           0.008168               1.000000  "
      ]
     },
     "execution_count": 7,
     "metadata": {},
     "output_type": "execute_result"
    }
   ],
   "source": [
    "cor=df3.corr()\n",
    "cor"
   ]
  },
  {
   "cell_type": "code",
   "execution_count": 8,
   "metadata": {},
   "outputs": [
    {
     "data": {
      "text/plain": [
       "<AxesSubplot:>"
      ]
     },
     "execution_count": 8,
     "metadata": {},
     "output_type": "execute_result"
    },
    {
     "data": {
      "image/png": "[encoded data removed]",
      "text/plain": [
       "<Figure size 1008x720 with 2 Axes>"
      ]
     },
     "metadata": {
      "needs_background": "light"
     },
     "output_type": "display_data"
    }
   ],
   "source": [
    "colormap=plt.cm.YlGnBu\n",
    "plt.figure(figsize=(14,10))\n",
    "sns.heatmap(df3.corr(),cmap=colormap, annot=True, linewidth=0.9)"
   ]
  },
  {
   "cell_type": "markdown",
   "metadata": {},
   "source": [
    "The Correlation Matrix Shows that none of the attributes are highly correlated. So we donot need to remove any of them"
   ]
  }
 ],
 "metadata": {
  "kernelspec": {
   "display_name": "Python 3",
   "language": "python",
   "name": "python3"
  },
  "language_info": {
   "codemirror_mode": {
    "name": "ipython",
    "version": 3
   },
   "file_extension": ".py",
   "mimetype": "text/x-python",
   "name": "python",
   "nbconvert_exporter": "python",
   "pygments_lexer": "ipython3",
   "version": "3.8.5"
  }
 },
 "nbformat": 4,
 "nbformat_minor": 4
}
